{
 "cells": [
  {
   "cell_type": "markdown",
   "id": "521c8062-37b9-4618-97ba-51c37e26be97",
   "metadata": {},
   "source": [
    "# ElectroBlocks Demo 2: RGB LED Color Cycle using Arduino Uno\n",
    "\n",
    "## 🔍 Objective\n",
    "### To cycle through red, green, and blue colors on an RGB LED using ElectroBlocks.\n",
    "\n",
    "## 📷 ElectroBlock Diagram\n",
    "<img src=\"rgb.png\">\n",
    "\n",
    "## 🪛 Steps\n",
    "### 1. Connect your Arduino Uno to the PC.\n",
    "### 2. Upload the ElectroBlocks firmware using Arduino IDE.\n",
    "### 3. Run the Python code below in this notebook."
   ]
  },
  {
   "cell_type": "code",
   "execution_count": 1,
   "id": "e88a79fd-b423-4834-904b-97b7b6aae881",
   "metadata": {},
   "outputs": [
    {
     "name": "stdout",
     "output_type": "stream",
     "text": [
      "Requirement already satisfied: electroblocks==0.1.5 in c:\\users\\hai\\appdata\\local\\programs\\python\\python313\\lib\\site-packages (0.1.5)\n",
      "Requirement already satisfied: pyserial in c:\\users\\hai\\appdata\\local\\programs\\python\\python313\\lib\\site-packages (from electroblocks==0.1.5) (3.5)\n"
     ]
    }
   ],
   "source": [
    "!pip install electroblocks==0.1.5"
   ]
  },
  {
   "cell_type": "markdown",
   "id": "18bf100e-e48e-4d97-940b-976ada3685c8",
   "metadata": {},
   "source": [
    "## Generated Python code"
   ]
  },
  {
   "cell_type": "code",
   "execution_count": null,
   "id": "6c0ec0de-3a7a-44ae-a142-1b227fddea56",
   "metadata": {},
   "outputs": [],
   "source": [
    "#Import ElectroBlocks library\n",
    "from electroblocks import ElectroBlocks\n",
    "\n",
    "from dataclasses import dataclass\n",
    "import time # imports the time library\n",
    "\n",
    "\n",
    "@dataclass\n",
    "class RGB:\n",
    "  red: float\n",
    "  green: float\n",
    "  blue: float\n",
    "\n",
    "\n",
    "# Initialise the program settings and configurations\n",
    "eb = ElectroBlocks() # Create an instance of the ElectroBlocks class\n",
    "eb.config_rgb(11, 10, 9) # Configures the RGB LED pins\n",
    "\n",
    "\n",
    "\n",
    "for i in range(1, 4):\n",
    "  dev_color = RGB(255, 0, 0) # Create the RGB color object.\n",
    "  eb.set_rgb(dev_color.red, dev_color.green, dev_color.blue) # Set the RGB LED color on the Arduino.\n",
    "  time.sleep(2) # Wait for the given/defined seconds.\n",
    "  dev_color = RGB(0, 255, 0) # Create the RGB color object.\n",
    "  eb.set_rgb(dev_color.red, dev_color.green, dev_color.blue) # Set the RGB LED color on the Arduino.\n",
    "  time.sleep(2) # Wait for the given/defined seconds.\n",
    "  dev_color = RGB(0, 0, 255) # Create the RGB color object.\n",
    "  eb.set_rgb(dev_color.red, dev_color.green, dev_color.blue) # Set the RGB LED color on the Arduino.\n",
    "  time.sleep(2) # Wait for the given/defined seconds.\n",
    "\n"
   ]
  },
  {
   "cell_type": "code",
   "execution_count": null,
   "id": "3721ae90-e768-4113-b7c7-f9845db3198e",
   "metadata": {},
   "outputs": [],
   "source": []
  }
 ],
 "metadata": {
  "kernelspec": {
   "display_name": "Python 3 (ipykernel)",
   "language": "python",
   "name": "python3"
  },
  "language_info": {
   "codemirror_mode": {
    "name": "ipython",
    "version": 3
   },
   "file_extension": ".py",
   "mimetype": "text/x-python",
   "name": "python",
   "nbconvert_exporter": "python",
   "pygments_lexer": "ipython3",
   "version": "3.13.0"
  }
 },
 "nbformat": 4,
 "nbformat_minor": 5
}
