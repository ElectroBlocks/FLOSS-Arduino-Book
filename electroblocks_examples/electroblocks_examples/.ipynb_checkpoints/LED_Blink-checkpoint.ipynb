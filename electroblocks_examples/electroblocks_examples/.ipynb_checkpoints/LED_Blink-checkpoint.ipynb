{
 "cells": [
  {
   "cell_type": "markdown",
   "id": "76e999f4-b167-448e-b97c-cd00441adb7f",
   "metadata": {},
   "source": [
    "# ElectroBlocks Demo 1: LED Blink using Arduino Uno\n",
    "\n",
    "## 🔍 Objective\n",
    "### To blink the onboard LED on the Arduino Uno using ElectroBlocks in Python.\n",
    "\n",
    "## 📷 ElectroBlock Diagram\n",
    "<img src=\"led.png.png\">\n",
    "\n",
    "## 🪛 Steps\n",
    "### 1. Connect your Arduino Uno to the PC.\n",
    "### 2. Upload the ElectroBlocks firmware using Arduino IDE.\n",
    "### 3. Run the Python code below in this notebook.\n",
    "\n"
   ]
  },
  {
   "cell_type": "code",
   "execution_count": 3,
   "id": "b269a315-9c92-433f-9584-bf04711657e4",
   "metadata": {},
   "outputs": [
    {
     "name": "stdout",
     "output_type": "stream",
     "text": [
      "Collecting electroblocks==0.1.5\n",
      "  Downloading electroblocks-0.1.5-py3-none-any.whl.metadata (1.4 kB)\n",
      "Requirement already satisfied: pyserial in c:\\users\\hai\\appdata\\local\\programs\\python\\python313\\lib\\site-packages (from electroblocks==0.1.5) (3.5)\n",
      "Downloading electroblocks-0.1.5-py3-none-any.whl (15 kB)\n",
      "Installing collected packages: electroblocks\n",
      "  Attempting uninstall: electroblocks\n",
      "    Found existing installation: electroblocks 0.1.4\n",
      "    Uninstalling electroblocks-0.1.4:\n",
      "      Successfully uninstalled electroblocks-0.1.4\n",
      "Successfully installed electroblocks-0.1.5\n"
     ]
    }
   ],
   "source": [
    "!pip install electroblocks==0.1.5"
   ]
  },
  {
   "cell_type": "markdown",
   "id": "3bf7784c-0e3c-483a-9ea0-8d741e068695",
   "metadata": {},
   "source": [
    "## Generated Python code"
   ]
  },
  {
   "cell_type": "code",
   "execution_count": null,
   "id": "64b67e81-d07a-4d26-b475-59c3e77cefac",
   "metadata": {},
   "outputs": [],
   "source": [
    "#Import ElectroBlocks library\n",
    "from electroblocks import ElectroBlocks\n",
    "import time # imports the time library\n",
    "\n",
    "\n",
    "# Initialise the program settings and configurations\n",
    "eb = ElectroBlocks() # Create an instance of the ElectroBlocks class\n",
    "\n",
    "\n",
    "\n",
    "for i in range(1, 4):\n",
    "  eb.digital_write(13, 1) # Turns the led on\n",
    "  time.sleep(0.2); # Wait for the given/defined seconds.\n",
    "  eb.digital_write(13, 0) # Turns the led off\n",
    "  time.sleep(0.2); # Wait for the given/defined seconds."
   ]
  },
  {
   "cell_type": "code",
   "execution_count": null,
   "id": "c0b90e66-c44f-4092-9ccd-bd6bb2aa4959",
   "metadata": {},
   "outputs": [],
   "source": []
  }
 ],
 "metadata": {
  "kernelspec": {
   "display_name": "Python 3 (ipykernel)",
   "language": "python",
   "name": "python3"
  },
  "language_info": {
   "codemirror_mode": {
    "name": "ipython",
    "version": 3
   },
   "file_extension": ".py",
   "mimetype": "text/x-python",
   "name": "python",
   "nbconvert_exporter": "python",
   "pygments_lexer": "ipython3",
   "version": "3.13.0"
  }
 },
 "nbformat": 4,
 "nbformat_minor": 5
}
