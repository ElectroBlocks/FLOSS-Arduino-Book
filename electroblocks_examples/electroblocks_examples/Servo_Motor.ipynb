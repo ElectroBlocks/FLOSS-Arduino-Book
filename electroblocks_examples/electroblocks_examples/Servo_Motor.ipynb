{
 "cells": [
  {
   "cell_type": "markdown",
   "id": "f166a431-70e0-45f2-bef5-f776af9388e4",
   "metadata": {},
   "source": [
    "# ElectroBlocks Demo 3: Servo Motor Sweep\n",
    "\n",
    "## 🔍 Objective\n",
    "### To sweep a servo motor from 0° to 180° and back using ElectroBlocks.\n",
    "\n",
    "## 📷 ElectroBlock Diagram\n",
    "<img src=\"servo.png\">\n",
    "\n",
    "\n",
    "## 🪛 Steps\n",
    "### 1. Connect a servo motor to pin 5 of the Arduino Uno.\n",
    "### 2. Power the servo externally or through Arduino 5V (if current is low).\n",
    "### 3. Upload the ElectroBlocks firmware.\n",
    "### 4. Run the following code."
   ]
  },
  {
   "cell_type": "code",
   "execution_count": 2,
   "id": "8d068e0d-2eea-47cc-aa97-0f09634314a5",
   "metadata": {},
   "outputs": [
    {
     "name": "stdout",
     "output_type": "stream",
     "text": [
      "Requirement already satisfied: electroblocks==0.1.5 in c:\\users\\hai\\appdata\\local\\programs\\python\\python313\\lib\\site-packages (0.1.5)\n",
      "Requirement already satisfied: pyserial in c:\\users\\hai\\appdata\\local\\programs\\python\\python313\\lib\\site-packages (from electroblocks==0.1.5) (3.5)\n"
     ]
    }
   ],
   "source": [
    "!pip install electroblocks==0.1.5"
   ]
  },
  {
   "cell_type": "markdown",
   "id": "0fa3a008-c4a2-4280-9104-b387a9ee59a4",
   "metadata": {},
   "source": [
    "## Generated Python code"
   ]
  },
  {
   "cell_type": "code",
   "execution_count": null,
   "id": "0f2e6415-fc51-4aab-ae12-58767afb5044",
   "metadata": {},
   "outputs": [],
   "source": [
    "#Import ElectroBlocks library\n",
    "from electroblocks import ElectroBlocks\n",
    "import time # imports the time library\n",
    "\n",
    "\n",
    "# Initialise the program settings and configurations\n",
    "eb = ElectroBlocks() # Create an instance of the ElectroBlocks class\n",
    "eb.config_servo(5) # Configures the servo motor on pin 5\n",
    "\n",
    "\n",
    "\n",
    "while True:\n",
    "  eb.move_servo(5, 50) # Rotate servo position to 50 degrees\n",
    "  time.sleep(2) # Wait for the given/defined seconds.\n",
    "  eb.move_servo(5, 100) # Rotate servo position to 100 degrees\n",
    "  time.sleep(2) # Wait for the given/defined seconds.\n"
   ]
  },
  {
   "cell_type": "code",
   "execution_count": null,
   "id": "af5e2fee-353c-4930-85c0-4806801ceec8",
   "metadata": {},
   "outputs": [],
   "source": []
  }
 ],
 "metadata": {
  "kernelspec": {
   "display_name": "Python 3 (ipykernel)",
   "language": "python",
   "name": "python3"
  },
  "language_info": {
   "codemirror_mode": {
    "name": "ipython",
    "version": 3
   },
   "file_extension": ".py",
   "mimetype": "text/x-python",
   "name": "python",
   "nbconvert_exporter": "python",
   "pygments_lexer": "ipython3",
   "version": "3.13.0"
  }
 },
 "nbformat": 4,
 "nbformat_minor": 5
}
