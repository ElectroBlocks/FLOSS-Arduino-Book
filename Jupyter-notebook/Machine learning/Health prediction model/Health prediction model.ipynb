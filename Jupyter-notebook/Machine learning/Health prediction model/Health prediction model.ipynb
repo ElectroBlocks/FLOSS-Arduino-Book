{
 "cells": [
  {
   "cell_type": "markdown",
   "id": "8acafd5a-7574-4f05-aab7-e9dae67deac9",
   "metadata": {},
   "source": [
    "\n",
    "<center>\n",
    "\n",
    "# <span style=\"font-size: 1.5em; color: #ff6347;\">Health prediction model</span>\n",
    "\n",
    "</center>"
   ]
  },
  {
   "cell_type": "markdown",
   "id": "hrPMSSu2taoh",
   "metadata": {
    "id": "hrPMSSu2taoh"
   },
   "source": [
    "# **Introduction to Machine Learning with Jupyter Notebooks**\n",
    "Welcome to the world of Machine Learning. This instructional materials will guide you to learn machine learning using Jupyter Notebook."
   ]
  },
  {
   "cell_type": "markdown",
   "id": "hmsg3MWmvNjq",
   "metadata": {
    "id": "hmsg3MWmvNjq",
    "jp-MarkdownHeadingCollapsed": true
   },
   "source": [
    "## **Getting Started**\n",
    "### **1. Setting Up Your Environment**\n",
    "Before we go deep into machine learning, you'll need to set up your environment.\n",
    "follow these steps to set up your environment.\n",
    "\n",
    "**Install Jupyter Notebook**:\n",
    "\n",
    "Install the classic Jupyter Notebook by writting the below command in your terminal:\n",
    "\n",
    "`pip install notebook`\n",
    "\n",
    "### **2. Launching Jupyter Notebook**\n",
    "\n",
    "To run the notebook:\n",
    "\n",
    "`jupyter notebook`\n",
    "\n",
    "or if this doesnt work, write this insteade.\n",
    "\n",
    "`python -m notebook`"
   ]
  },
  {
   "cell_type": "markdown",
   "id": "1z9COW_-v4_2",
   "metadata": {
    "id": "1z9COW_-v4_2",
    "jp-MarkdownHeadingCollapsed": true
   },
   "source": [
    "## **Basics of Machain Learning (ML)**\n",
    "### **What is Machine Learning?**\n",
    "It is a subset of Artificial Inteligence (AI). It focuses on making a model capable of learning from data to make predictions or decisions.\n",
    "\n",
    "### **Types of Machaine Learning:**\n",
    "1. *Supervised Learning*: Learning from labeled data (e.g., classification, regression).\n",
    "2. *Unsupervised Learning*: Finding patterns in unlabeled data (e.g., clustering, dimensionality reduction).\n",
    "3. *Reinforcement Learning*: Learning through rewards and punishments."
   ]
  },
  {
   "cell_type": "markdown",
   "id": "07hppMV2tpwd",
   "metadata": {
    "id": "07hppMV2tpwd"
   },
   "source": [
    "## **Building your first ML Model**"
   ]
  },
  {
   "cell_type": "markdown",
   "id": "IBzg9QTEDEeI",
   "metadata": {
    "id": "IBzg9QTEDEeI"
   },
   "source": [
    "**Tools and Technologies**:\n",
    "\n",
    "**1**.\tJupyter Notebook: For data preprocessing, model development, and training.\n",
    "\n",
    "**2**.\tProgramming Language: Python - Widely used for its simplicity, extensive libraries, and ecosystem support.\n",
    "\n"
   ]
  },
  {
   "cell_type": "markdown",
   "id": "lVtdjpVNDQdj",
   "metadata": {
    "id": "lVtdjpVNDQdj"
   },
   "source": [
    "## **Task Steps:**"
   ]
  },
  {
   "cell_type": "markdown",
   "id": "GmqCkoG9Juf5",
   "metadata": {
    "id": "GmqCkoG9Juf5"
   },
   "source": [
    "### **1. Import libraries:**\n",
    "We will import the necessary libraries first"
   ]
  },
  {
   "cell_type": "code",
   "execution_count": 1,
   "id": "cxf2RSmXJhoG",
   "metadata": {
    "executionInfo": {
     "elapsed": 8851,
     "status": "ok",
     "timestamp": 1719500901538,
     "user": {
      "displayName": "Harsh Raj",
      "userId": "13475918194215025488"
     },
     "user_tz": -330
    },
    "id": "cxf2RSmXJhoG"
   },
   "outputs": [
    {
     "name": "stderr",
     "output_type": "stream",
     "text": [
      "2024-07-15 12:33:13.494270: I external/local_tsl/tsl/cuda/cudart_stub.cc:32] Could not find cuda drivers on your machine, GPU will not be used.\n",
      "2024-07-15 12:33:21.179884: I external/local_tsl/tsl/cuda/cudart_stub.cc:32] Could not find cuda drivers on your machine, GPU will not be used.\n",
      "2024-07-15 12:34:25.060866: W tensorflow/compiler/tf2tensorrt/utils/py_utils.cc:38] TF-TRT Warning: Could not find TensorRT\n"
     ]
    }
   ],
   "source": [
    "import pandas as pd     # for data acquisition\n",
    "import numpy as np      # for data processing\n",
    "import tensorflow as tf # for making the model"
   ]
  },
  {
   "cell_type": "code",
   "execution_count": 2,
   "id": "H-aQmCZePpJ2",
   "metadata": {
    "colab": {
     "base_uri": "https://localhost:8080/"
    },
    "executionInfo": {
     "elapsed": 10986,
     "status": "ok",
     "timestamp": 1719500989962,
     "user": {
      "displayName": "Harsh Raj",
      "userId": "13475918194215025488"
     },
     "user_tz": -330
    },
    "id": "H-aQmCZePpJ2",
    "outputId": "b7d9c455-c8ef-4531-a2dc-90398110f253"
   },
   "outputs": [
    {
     "name": "stdout",
     "output_type": "stream",
     "text": [
      "Defaulting to user installation because normal site-packages is not writeable\n",
      "Requirement already satisfied: micromlgen in /home/user/.local/lib/python3.10/site-packages (1.1.28)\n",
      "Requirement already satisfied: jinja2 in /home/user/.local/lib/python3.10/site-packages (from micromlgen) (3.0.3)\n",
      "Requirement already satisfied: MarkupSafe>=2.0 in /home/user/.local/lib/python3.10/site-packages (from jinja2->micromlgen) (2.1.5)\n",
      "\n",
      "\u001b[1m[\u001b[0m\u001b[34;49mnotice\u001b[0m\u001b[1;39;49m]\u001b[0m\u001b[39;49m A new release of pip is available: \u001b[0m\u001b[31;49m24.1.1\u001b[0m\u001b[39;49m -> \u001b[0m\u001b[32;49m24.1.2\u001b[0m\n",
      "\u001b[1m[\u001b[0m\u001b[34;49mnotice\u001b[0m\u001b[1;39;49m]\u001b[0m\u001b[39;49m To update, run: \u001b[0m\u001b[32;49mpython3 -m pip install --upgrade pip\u001b[0m\n"
     ]
    }
   ],
   "source": [
    "!pip install micromlgen"
   ]
  },
  {
   "cell_type": "code",
   "execution_count": 3,
   "id": "966398fd-64a6-4e87-a59f-7f7efe754613",
   "metadata": {
    "executionInfo": {
     "elapsed": 1598,
     "status": "ok",
     "timestamp": 1719507588725,
     "user": {
      "displayName": "Harsh Raj",
      "userId": "13475918194215025488"
     },
     "user_tz": -330
    },
    "id": "966398fd-64a6-4e87-a59f-7f7efe754613"
   },
   "outputs": [],
   "source": [
    "from sklearn.model_selection import train_test_split\n",
    "from sklearn.tree import DecisionTreeClassifier\n",
    "from micromlgen import port\n",
    "from sklearn import metrics\n",
    "import seaborn as sns\n",
    "import warnings\n",
    "warnings.filterwarnings('ignore')"
   ]
  },
  {
   "cell_type": "markdown",
   "id": "da6EwHUXBLr2",
   "metadata": {
    "id": "da6EwHUXBLr2"
   },
   "source": [
    "### **2. Dataset Acquisition:**\n",
    "We will use the provided medical dataset for this project.\n"
   ]
  },
  {
   "cell_type": "code",
   "execution_count": 24,
   "id": "26760d37-0b57-41dc-888b-4f96562a4296",
   "metadata": {
    "executionInfo": {
     "elapsed": 625,
     "status": "ok",
     "timestamp": 1719507600895,
     "user": {
      "displayName": "Harsh Raj",
      "userId": "13475918194215025488"
     },
     "user_tz": -330
    },
    "id": "26760d37-0b57-41dc-888b-4f96562a4296"
   },
   "outputs": [],
   "source": [
    "data = pd.read_csv('dataset.csv')  # Load the dataset"
   ]
  },
  {
   "cell_type": "code",
   "execution_count": 25,
   "id": "b2mNI5xxLvSF",
   "metadata": {
    "colab": {
     "base_uri": "https://localhost:8080/",
     "height": 206
    },
    "executionInfo": {
     "elapsed": 6,
     "status": "ok",
     "timestamp": 1719507603351,
     "user": {
      "displayName": "Harsh Raj",
      "userId": "13475918194215025488"
     },
     "user_tz": -330
    },
    "id": "b2mNI5xxLvSF",
    "outputId": "68b4ab82-e2e3-47ed-dc96-e1cf4c12ce6b"
   },
   "outputs": [
    {
     "data": {
      "text/html": [
       "<div>\n",
       "<style scoped>\n",
       "    .dataframe tbody tr th:only-of-type {\n",
       "        vertical-align: middle;\n",
       "    }\n",
       "\n",
       "    .dataframe tbody tr th {\n",
       "        vertical-align: top;\n",
       "    }\n",
       "\n",
       "    .dataframe thead th {\n",
       "        text-align: right;\n",
       "    }\n",
       "</style>\n",
       "<table border=\"1\" class=\"dataframe\">\n",
       "  <thead>\n",
       "    <tr style=\"text-align: right;\">\n",
       "      <th></th>\n",
       "      <th>id</th>\n",
       "      <th>gender</th>\n",
       "      <th>age</th>\n",
       "      <th>heart_rate</th>\n",
       "      <th>temperature</th>\n",
       "      <th>SpO2_saturation</th>\n",
       "      <th>bpm</th>\n",
       "      <th>Health_status</th>\n",
       "    </tr>\n",
       "  </thead>\n",
       "  <tbody>\n",
       "    <tr>\n",
       "      <th>0</th>\n",
       "      <td>1</td>\n",
       "      <td>male</td>\n",
       "      <td>66.0</td>\n",
       "      <td>70</td>\n",
       "      <td>38.6</td>\n",
       "      <td>88.0</td>\n",
       "      <td>75</td>\n",
       "      <td>Infected</td>\n",
       "    </tr>\n",
       "    <tr>\n",
       "      <th>1</th>\n",
       "      <td>2</td>\n",
       "      <td>female</td>\n",
       "      <td>56.0</td>\n",
       "      <td>74</td>\n",
       "      <td>39.6</td>\n",
       "      <td>88.0</td>\n",
       "      <td>70</td>\n",
       "      <td>Infected</td>\n",
       "    </tr>\n",
       "    <tr>\n",
       "      <th>2</th>\n",
       "      <td>3</td>\n",
       "      <td>male</td>\n",
       "      <td>46.0</td>\n",
       "      <td>82</td>\n",
       "      <td>37.2</td>\n",
       "      <td>98.0</td>\n",
       "      <td>83</td>\n",
       "      <td>Non Infected</td>\n",
       "    </tr>\n",
       "    <tr>\n",
       "      <th>3</th>\n",
       "      <td>4</td>\n",
       "      <td>female</td>\n",
       "      <td>60.0</td>\n",
       "      <td>90</td>\n",
       "      <td>38.6</td>\n",
       "      <td>98.0</td>\n",
       "      <td>75</td>\n",
       "      <td>Non Infected</td>\n",
       "    </tr>\n",
       "    <tr>\n",
       "      <th>4</th>\n",
       "      <td>5</td>\n",
       "      <td>male</td>\n",
       "      <td>58.0</td>\n",
       "      <td>72</td>\n",
       "      <td>39.6</td>\n",
       "      <td>93.0</td>\n",
       "      <td>78</td>\n",
       "      <td>Infected</td>\n",
       "    </tr>\n",
       "  </tbody>\n",
       "</table>\n",
       "</div>"
      ],
      "text/plain": [
       "   id  gender   age  heart_rate  temperature  SpO2_saturation  bpm  \\\n",
       "0   1    male  66.0          70         38.6             88.0   75   \n",
       "1   2  female  56.0          74         39.6             88.0   70   \n",
       "2   3    male  46.0          82         37.2             98.0   83   \n",
       "3   4  female  60.0          90         38.6             98.0   75   \n",
       "4   5    male  58.0          72         39.6             93.0   78   \n",
       "\n",
       "  Health_status  \n",
       "0      Infected  \n",
       "1      Infected  \n",
       "2  Non Infected  \n",
       "3  Non Infected  \n",
       "4      Infected  "
      ]
     },
     "execution_count": 25,
     "metadata": {},
     "output_type": "execute_result"
    }
   ],
   "source": [
    "data.head(5)  # Display the first few rows of the dataset"
   ]
  },
  {
   "cell_type": "markdown",
   "id": "e3d9a693-bdcd-42f0-8b99-3691ce96af7f",
   "metadata": {
    "id": "e3d9a693-bdcd-42f0-8b99-3691ce96af7f"
   },
   "source": [
    "## Determine Medical Condition"
   ]
  },
  {
   "cell_type": "code",
   "execution_count": 26,
   "id": "ff7a52c2-7d93-4a21-bab4-bb3c230f67ab",
   "metadata": {
    "executionInfo": {
     "elapsed": 780,
     "status": "ok",
     "timestamp": 1719507606744,
     "user": {
      "displayName": "Harsh Raj",
      "userId": "13475918194215025488"
     },
     "user_tz": -330
    },
    "id": "ff7a52c2-7d93-4a21-bab4-bb3c230f67ab"
   },
   "outputs": [],
   "source": [
    "def determine_medical_condition(row):\n",
    "    heart_rate = row['heart_rate']\n",
    "    temperature = row['temperature']\n",
    "    spo2 = row['SpO2_saturation']\n",
    "\n",
    "    if 60 <= heart_rate <= 100 and 36.1 <= temperature <= 37.2 and 95 <= spo2 <= 100:\n",
    "        return 0 #\"Normal\"\n",
    "    elif heart_rate > 100 or heart_rate < 60 or temperature > 37.2 or temperature < 36.1 or spo2 < 95:\n",
    "        return 1 #\"Serious\"\n",
    "    else:\n",
    "        return 2 #\"Dischargeable\"\n",
    "# refer data website"
   ]
  },
  {
   "cell_type": "code",
   "execution_count": 50,
   "id": "7acdb25d-d6fa-43f5-9293-aba2a66d3fde",
   "metadata": {
    "executionInfo": {
     "elapsed": 533,
     "status": "ok",
     "timestamp": 1719507609351,
     "user": {
      "displayName": "Harsh Raj",
      "userId": "13475918194215025488"
     },
     "user_tz": -330
    },
    "id": "7acdb25d-d6fa-43f5-9293-aba2a66d3fde"
   },
   "outputs": [],
   "source": [
    "# Apply the function to the DataFrame to create the 'health_condition' column\n",
    "data['health_condition'] = data.apply(determine_medical_condition, axis=1)"
   ]
  },
  {
   "cell_type": "code",
   "execution_count": 51,
   "id": "bfe276d7-0ea8-41e8-962d-94075819d91a",
   "metadata": {
    "colab": {
     "base_uri": "https://localhost:8080/"
    },
    "executionInfo": {
     "elapsed": 2,
     "status": "ok",
     "timestamp": 1719507610495,
     "user": {
      "displayName": "Harsh Raj",
      "userId": "13475918194215025488"
     },
     "user_tz": -330
    },
    "id": "bfe276d7-0ea8-41e8-962d-94075819d91a",
    "outputId": "72cf99b9-4723-4ccd-d44a-0eb0f2ba97db"
   },
   "outputs": [
    {
     "name": "stdout",
     "output_type": "stream",
     "text": [
      "    heart_rate  temperature  SpO2_saturation Health_status  health_condition\n",
      "0           70         38.6             88.0      Infected                 1\n",
      "1           74         39.6             88.0      Infected                 1\n",
      "2           82         37.2             98.0  Non Infected                 0\n",
      "3           90         38.6             98.0  Non Infected                 1\n",
      "4           72         39.6             93.0      Infected                 1\n",
      "5           72         37.2             93.0      Infected                 1\n",
      "6           67         38.6             98.0  Non Infected                 1\n",
      "7           72         39.6             97.0  Non Infected                 1\n",
      "8           65         37.2             96.0  Non Infected                 0\n",
      "9           76         38.0             92.0      Infected                 1\n",
      "10          73         38.6             50.0      Infected                 1\n",
      "11          64         39.6             97.0  Non Infected                 1\n",
      "12          63         37.2             70.0      Infected                 1\n",
      "13          94         38.6             70.0      Infected                 1\n",
      "14          73         39.6             70.0      Infected                 1\n",
      "15          75         37.2             70.0      Infected                 1\n",
      "16          78         38.6             70.0      Infected                 1\n",
      "17          68         39.6             95.0  Non Infected                 1\n",
      "18          71         37.2             95.0  Non Infected                 0\n",
      "19          70         38.6             95.0  Non Infected                 1\n"
     ]
    }
   ],
   "source": [
    "# Display the updated DataFrame\n",
    "print(data.head(20))"
   ]
  },
  {
   "cell_type": "markdown",
   "id": "4jcYMC2SERMm",
   "metadata": {
    "id": "4jcYMC2SERMm"
   },
   "source": [
    "### **Data Preprocessing & Visualization**:\n",
    "\n",
    "Handle missing values and encode categorical variables."
   ]
  },
  {
   "cell_type": "code",
   "execution_count": 52,
   "id": "wbtz2oV9KY5_",
   "metadata": {
    "executionInfo": {
     "elapsed": 3,
     "status": "ok",
     "timestamp": 1719507611265,
     "user": {
      "displayName": "Harsh Raj",
      "userId": "13475918194215025488"
     },
     "user_tz": -330
    },
    "id": "wbtz2oV9KY5_"
   },
   "outputs": [],
   "source": [
    "# Dataset Preprocessing\n",
    "X = data[['heart_rate', 'temperature', 'SpO2_saturation']] #features\n",
    "y = data['health_condition'] #target\n"
   ]
  },
  {
   "cell_type": "code",
   "execution_count": 53,
   "id": "64b978b6-dd9b-46db-a3dd-d8ed0cef6727",
   "metadata": {},
   "outputs": [
    {
     "data": {
      "image/png": "[encoded data removed]",
      "text/plain": [
       "<Figure size 640x480 with 1 Axes>"
      ]
     },
     "metadata": {},
     "output_type": "display_data"
    },
    {
     "data": {
      "image/png": "[encoded data removed]",
      "text/plain": [
       "<Figure size 640x480 with 1 Axes>"
      ]
     },
     "metadata": {},
     "output_type": "display_data"
    },
    {
     "data": {
      "image/png": "[encoded data removed]",
      "text/plain": [
       "<Figure size 640x480 with 1 Axes>"
      ]
     },
     "metadata": {},
     "output_type": "display_data"
    }
   ],
   "source": [
    "import pandas as pd\n",
    "import matplotlib.pyplot as plt\n",
    "\n",
    "# Load the dataset\n",
    "file_path = 'dataset.csv'\n",
    "df = pd.read_csv(file_path)\n",
    "\n",
    "# Define the binning and labeling for each parameter\n",
    "parameters = {\n",
    "    'heart_rate': {\n",
    "        'bins': [60, 70, 80, 90, 100, 110],\n",
    "        'labels': ['60-70', '70-80', '80-90', '90-100', '100-110']\n",
    "    },\n",
    "    'SpO2_saturation': {\n",
    "        'bins': [80, 85, 90, 95, 100],\n",
    "        'labels': ['80-85', '85-90', '90-95', '95-100']\n",
    "    },\n",
    "    'temperature': {\n",
    "        'bins': [35, 36, 37, 38, 39, 40],\n",
    "        'labels': ['35-36', '36-37', '37-38', '38-39', '39-40']\n",
    "    }\n",
    "}\n",
    "\n",
    "# Function to create a pie chart\n",
    "def plot_pie_chart(df, column, bins, labels, title):\n",
    "    df[f'{column}_category'] = pd.cut(df[column], bins=bins, labels=labels, include_lowest=True)\n",
    "    category_counts = df[f'{column}_category'].value_counts().sort_index()\n",
    "    category_counts.plot(kind='pie', autopct='%1.1f%%')\n",
    "    plt.title(title)\n",
    "    plt.ylabel('')  # Hide the y-label\n",
    "    plt.show()\n",
    "\n",
    "# Plot pie charts for each parameter\n",
    "for param, config in parameters.items():\n",
    "    plot_pie_chart(df, param, config['bins'], config['labels'], f'{param.replace(\"_\", \" \").title()} Distribution')\n"
   ]
  },
  {
   "cell_type": "code",
   "execution_count": 54,
   "id": "e2bddac5-4d2c-4199-b63c-011ae9bce559",
   "metadata": {
    "colab": {
     "base_uri": "https://localhost:8080/",
     "height": 448
    },
    "executionInfo": {
     "elapsed": 1571,
     "status": "ok",
     "timestamp": 1719507615505,
     "user": {
      "displayName": "Harsh Raj",
      "userId": "13475918194215025488"
     },
     "user_tz": -330
    },
    "id": "e2bddac5-4d2c-4199-b63c-011ae9bce559",
    "outputId": "a0f5d229-e4d6-4fda-f339-213958f5cd25"
   },
   "outputs": [
    {
     "data": {
      "text/plain": [
       "<AxesSubplot:>"
      ]
     },
     "execution_count": 54,
     "metadata": {},
     "output_type": "execute_result"
    },
    {
     "data": {
      "image/png": "[encoded data removed]",
      "text/plain": [
       "<Figure size 640x480 with 1 Axes>"
      ]
     },
     "metadata": {},
     "output_type": "display_data"
    }
   ],
   "source": [
    "X[['heart_rate']].plot()  # plot of heart_rate"
   ]
  },
  {
   "cell_type": "code",
   "execution_count": 55,
   "id": "a2b2272a-b25c-4954-8d34-5797f053a0fa",
   "metadata": {
    "colab": {
     "base_uri": "https://localhost:8080/",
     "height": 448
    },
    "executionInfo": {
     "elapsed": 862,
     "status": "ok",
     "timestamp": 1719507616360,
     "user": {
      "displayName": "Harsh Raj",
      "userId": "13475918194215025488"
     },
     "user_tz": -330
    },
    "id": "a2b2272a-b25c-4954-8d34-5797f053a0fa",
    "outputId": "3102da69-d54e-43f2-ee6f-9b3f8a7f6587"
   },
   "outputs": [
    {
     "data": {
      "text/plain": [
       "<AxesSubplot:>"
      ]
     },
     "execution_count": 55,
     "metadata": {},
     "output_type": "execute_result"
    },
    {
     "data": {
      "image/png": "[encoded data removed]",
      "text/plain": [
       "<Figure size 640x480 with 1 Axes>"
      ]
     },
     "metadata": {},
     "output_type": "display_data"
    }
   ],
   "source": [
    "X[['temperature']].plot() # plot of temperature"
   ]
  },
  {
   "cell_type": "code",
   "execution_count": 56,
   "id": "a92df9c2-60f8-43f8-9c41-f81772755b63",
   "metadata": {
    "colab": {
     "base_uri": "https://localhost:8080/",
     "height": 448
    },
    "executionInfo": {
     "elapsed": 1578,
     "status": "ok",
     "timestamp": 1719507621818,
     "user": {
      "displayName": "Harsh Raj",
      "userId": "13475918194215025488"
     },
     "user_tz": -330
    },
    "id": "a92df9c2-60f8-43f8-9c41-f81772755b63",
    "outputId": "28bd5d2f-a587-4368-ab60-849c7461dab7"
   },
   "outputs": [
    {
     "data": {
      "text/plain": [
       "<AxesSubplot:>"
      ]
     },
     "execution_count": 56,
     "metadata": {},
     "output_type": "execute_result"
    },
    {
     "data": {
      "image/png": "[encoded data removed]",
      "text/plain": [
       "<Figure size 640x480 with 1 Axes>"
      ]
     },
     "metadata": {},
     "output_type": "display_data"
    }
   ],
   "source": [
    "X[['SpO2_saturation']].plot()  # plot of SpO2_saturation"
   ]
  },
  {
   "cell_type": "code",
   "execution_count": 57,
   "id": "7d1bd566-ef1c-4ddb-9d46-9863d413ac9a",
   "metadata": {
    "colab": {
     "base_uri": "https://localhost:8080/"
    },
    "executionInfo": {
     "elapsed": 6,
     "status": "ok",
     "timestamp": 1719507621819,
     "user": {
      "displayName": "Harsh Raj",
      "userId": "13475918194215025488"
     },
     "user_tz": -330
    },
    "id": "7d1bd566-ef1c-4ddb-9d46-9863d413ac9a",
    "outputId": "c973a253-7734-4fca-9ceb-1ec07b4758cb"
   },
   "outputs": [
    {
     "data": {
      "text/plain": [
       "heart_rate          69\n",
       "temperature         29\n",
       "SpO2_saturation     39\n",
       "Health_status        4\n",
       "health_condition     2\n",
       "dtype: int64"
      ]
     },
     "execution_count": 57,
     "metadata": {},
     "output_type": "execute_result"
    }
   ],
   "source": [
    "data.nunique()  # finding for the count of unique values"
   ]
  },
  {
   "cell_type": "code",
   "execution_count": 58,
   "id": "5e5828fb-19f6-407d-9b77-790da197a092",
   "metadata": {
    "colab": {
     "base_uri": "https://localhost:8080/"
    },
    "executionInfo": {
     "elapsed": 509,
     "status": "ok",
     "timestamp": 1719507625924,
     "user": {
      "displayName": "Harsh Raj",
      "userId": "13475918194215025488"
     },
     "user_tz": -330
    },
    "id": "5e5828fb-19f6-407d-9b77-790da197a092",
    "outputId": "f42e4931-28af-476b-dcab-ceaf9acd1077"
   },
   "outputs": [
    {
     "data": {
      "text/plain": [
       "(579, 5)"
      ]
     },
     "execution_count": 58,
     "metadata": {},
     "output_type": "execute_result"
    }
   ],
   "source": [
    "data.shape # gives the shape of data"
   ]
  },
  {
   "cell_type": "code",
   "execution_count": 59,
   "id": "5f27f2c0-c9ef-4a15-afe9-749a52866eb8",
   "metadata": {
    "colab": {
     "base_uri": "https://localhost:8080/"
    },
    "executionInfo": {
     "elapsed": 595,
     "status": "ok",
     "timestamp": 1719507628862,
     "user": {
      "displayName": "Harsh Raj",
      "userId": "13475918194215025488"
     },
     "user_tz": -330
    },
    "id": "5f27f2c0-c9ef-4a15-afe9-749a52866eb8",
    "outputId": "21d3d2c8-2994-4e3a-9053-3e3e5c698b34"
   },
   "outputs": [
    {
     "data": {
      "text/plain": [
       "Index(['heart_rate', 'temperature', 'SpO2_saturation', 'Health_status',\n",
       "       'health_condition'],\n",
       "      dtype='object')"
      ]
     },
     "execution_count": 59,
     "metadata": {},
     "output_type": "execute_result"
    }
   ],
   "source": [
    "data.columns # gives the columns of data"
   ]
  },
  {
   "cell_type": "code",
   "execution_count": 60,
   "id": "9e77009e-deaf-4457-a240-13d5813950b0",
   "metadata": {
    "colab": {
     "base_uri": "https://localhost:8080/"
    },
    "executionInfo": {
     "elapsed": 3,
     "status": "ok",
     "timestamp": 1719507630419,
     "user": {
      "displayName": "Harsh Raj",
      "userId": "13475918194215025488"
     },
     "user_tz": -330
    },
    "id": "9e77009e-deaf-4457-a240-13d5813950b0",
    "outputId": "1c5494af-1ff6-4532-c64f-caed93892a68"
   },
   "outputs": [
    {
     "name": "stdout",
     "output_type": "stream",
     "text": [
      "<class 'pandas.core.frame.DataFrame'>\n",
      "Int64Index: 579 entries, 0 to 1077\n",
      "Data columns (total 5 columns):\n",
      " #   Column            Non-Null Count  Dtype  \n",
      "---  ------            --------------  -----  \n",
      " 0   heart_rate        579 non-null    int64  \n",
      " 1   temperature       579 non-null    float64\n",
      " 2   SpO2_saturation   579 non-null    float64\n",
      " 3   Health_status     579 non-null    object \n",
      " 4   health_condition  579 non-null    int64  \n",
      "dtypes: float64(2), int64(2), object(1)\n",
      "memory usage: 27.1+ KB\n"
     ]
    }
   ],
   "source": [
    "data.info() # All information about data"
   ]
  },
  {
   "cell_type": "code",
   "execution_count": 61,
   "id": "27265752-7453-4e5d-b26b-3012eb44e0c2",
   "metadata": {
    "executionInfo": {
     "elapsed": 512,
     "status": "ok",
     "timestamp": 1719507633553,
     "user": {
      "displayName": "Harsh Raj",
      "userId": "13475918194215025488"
     },
     "user_tz": -330
    },
    "id": "27265752-7453-4e5d-b26b-3012eb44e0c2"
   },
   "outputs": [],
   "source": [
    "data= data[[\"heart_rate\",\"temperature\",\"SpO2_saturation\",\"health_condition\"]] # taking only the required data"
   ]
  },
  {
   "cell_type": "code",
   "execution_count": 62,
   "id": "9fc570ff-263a-40b4-a651-b0e94a2d3e9a",
   "metadata": {
    "colab": {
     "base_uri": "https://localhost:8080/",
     "height": 206
    },
    "executionInfo": {
     "elapsed": 656,
     "status": "ok",
     "timestamp": 1719507636645,
     "user": {
      "displayName": "Harsh Raj",
      "userId": "13475918194215025488"
     },
     "user_tz": -330
    },
    "id": "9fc570ff-263a-40b4-a651-b0e94a2d3e9a",
    "outputId": "6a3ff95b-09d6-449e-a476-0b35f74e4928"
   },
   "outputs": [
    {
     "data": {
      "text/html": [
       "<div>\n",
       "<style scoped>\n",
       "    .dataframe tbody tr th:only-of-type {\n",
       "        vertical-align: middle;\n",
       "    }\n",
       "\n",
       "    .dataframe tbody tr th {\n",
       "        vertical-align: top;\n",
       "    }\n",
       "\n",
       "    .dataframe thead th {\n",
       "        text-align: right;\n",
       "    }\n",
       "</style>\n",
       "<table border=\"1\" class=\"dataframe\">\n",
       "  <thead>\n",
       "    <tr style=\"text-align: right;\">\n",
       "      <th></th>\n",
       "      <th>heart_rate</th>\n",
       "      <th>temperature</th>\n",
       "      <th>SpO2_saturation</th>\n",
       "      <th>health_condition</th>\n",
       "    </tr>\n",
       "  </thead>\n",
       "  <tbody>\n",
       "    <tr>\n",
       "      <th>0</th>\n",
       "      <td>70</td>\n",
       "      <td>38.6</td>\n",
       "      <td>88.0</td>\n",
       "      <td>1</td>\n",
       "    </tr>\n",
       "    <tr>\n",
       "      <th>1</th>\n",
       "      <td>74</td>\n",
       "      <td>39.6</td>\n",
       "      <td>88.0</td>\n",
       "      <td>1</td>\n",
       "    </tr>\n",
       "    <tr>\n",
       "      <th>2</th>\n",
       "      <td>82</td>\n",
       "      <td>37.2</td>\n",
       "      <td>98.0</td>\n",
       "      <td>0</td>\n",
       "    </tr>\n",
       "    <tr>\n",
       "      <th>3</th>\n",
       "      <td>90</td>\n",
       "      <td>38.6</td>\n",
       "      <td>98.0</td>\n",
       "      <td>1</td>\n",
       "    </tr>\n",
       "    <tr>\n",
       "      <th>4</th>\n",
       "      <td>72</td>\n",
       "      <td>39.6</td>\n",
       "      <td>93.0</td>\n",
       "      <td>1</td>\n",
       "    </tr>\n",
       "  </tbody>\n",
       "</table>\n",
       "</div>"
      ],
      "text/plain": [
       "   heart_rate  temperature  SpO2_saturation  health_condition\n",
       "0          70         38.6             88.0                 1\n",
       "1          74         39.6             88.0                 1\n",
       "2          82         37.2             98.0                 0\n",
       "3          90         38.6             98.0                 1\n",
       "4          72         39.6             93.0                 1"
      ]
     },
     "execution_count": 62,
     "metadata": {},
     "output_type": "execute_result"
    }
   ],
   "source": [
    "data.head()  # shows some data from starting"
   ]
  },
  {
   "cell_type": "code",
   "execution_count": 63,
   "id": "757db057-87e1-4b0d-b6db-8d1314fea1ff",
   "metadata": {
    "colab": {
     "base_uri": "https://localhost:8080/"
    },
    "executionInfo": {
     "elapsed": 2,
     "status": "ok",
     "timestamp": 1719507637160,
     "user": {
      "displayName": "Harsh Raj",
      "userId": "13475918194215025488"
     },
     "user_tz": -330
    },
    "id": "757db057-87e1-4b0d-b6db-8d1314fea1ff",
    "outputId": "2d69f1be-a7e1-4360-c8c6-443fc356aa27"
   },
   "outputs": [
    {
     "name": "stdout",
     "output_type": "stream",
     "text": [
      "<class 'pandas.core.frame.DataFrame'>\n",
      "Int64Index: 579 entries, 0 to 1077\n",
      "Data columns (total 4 columns):\n",
      " #   Column            Non-Null Count  Dtype  \n",
      "---  ------            --------------  -----  \n",
      " 0   heart_rate        579 non-null    int64  \n",
      " 1   temperature       579 non-null    float64\n",
      " 2   SpO2_saturation   579 non-null    float64\n",
      " 3   health_condition  579 non-null    int64  \n",
      "dtypes: float64(2), int64(2)\n",
      "memory usage: 22.6 KB\n"
     ]
    }
   ],
   "source": [
    "data.info()  # again checking the data info"
   ]
  },
  {
   "cell_type": "code",
   "execution_count": 64,
   "id": "2615bc26-feb7-49cb-ab9b-b91ba60289af",
   "metadata": {
    "colab": {
     "base_uri": "https://localhost:8080/"
    },
    "executionInfo": {
     "elapsed": 507,
     "status": "ok",
     "timestamp": 1719507640103,
     "user": {
      "displayName": "Harsh Raj",
      "userId": "13475918194215025488"
     },
     "user_tz": -330
    },
    "id": "2615bc26-feb7-49cb-ab9b-b91ba60289af",
    "outputId": "2296ebc3-6a64-41c8-90b0-779030cffe8e"
   },
   "outputs": [
    {
     "data": {
      "text/plain": [
       "heart_rate          0\n",
       "temperature         0\n",
       "SpO2_saturation     0\n",
       "health_condition    0\n",
       "dtype: int64"
      ]
     },
     "execution_count": 64,
     "metadata": {},
     "output_type": "execute_result"
    }
   ],
   "source": [
    "data.isna().sum() # searching for null values"
   ]
  },
  {
   "cell_type": "code",
   "execution_count": 65,
   "id": "e5ea2699-6047-4202-91b0-0b8c48aa49a1",
   "metadata": {
    "colab": {
     "base_uri": "https://localhost:8080/"
    },
    "executionInfo": {
     "elapsed": 492,
     "status": "ok",
     "timestamp": 1719507641379,
     "user": {
      "displayName": "Harsh Raj",
      "userId": "13475918194215025488"
     },
     "user_tz": -330
    },
    "id": "e5ea2699-6047-4202-91b0-0b8c48aa49a1",
    "outputId": "06294d58-9250-4b9a-f362-98e4ece3d1b7"
   },
   "outputs": [
    {
     "data": {
      "text/plain": [
       "10"
      ]
     },
     "execution_count": 65,
     "metadata": {},
     "output_type": "execute_result"
    }
   ],
   "source": [
    "data.duplicated().sum() # searching for the duplicate values"
   ]
  },
  {
   "cell_type": "code",
   "execution_count": 66,
   "id": "00502630-e742-4528-b743-90ddd7820823",
   "metadata": {
    "colab": {
     "base_uri": "https://localhost:8080/"
    },
    "executionInfo": {
     "elapsed": 2,
     "status": "ok",
     "timestamp": 1719507644264,
     "user": {
      "displayName": "Harsh Raj",
      "userId": "13475918194215025488"
     },
     "user_tz": -330
    },
    "id": "00502630-e742-4528-b743-90ddd7820823",
    "outputId": "2efc14bf-4fde-4ccd-f886-a334aa3f3d54"
   },
   "outputs": [
    {
     "data": {
      "text/plain": [
       "(569, 4)"
      ]
     },
     "execution_count": 66,
     "metadata": {},
     "output_type": "execute_result"
    }
   ],
   "source": [
    "data.drop_duplicates(inplace=True)  # deleting the duplicate values\n",
    "data.shape"
   ]
  },
  {
   "cell_type": "code",
   "execution_count": 67,
   "id": "2a4d0a7c-f8da-46e6-be1b-c92802f045c1",
   "metadata": {
    "colab": {
     "base_uri": "https://localhost:8080/"
    },
    "executionInfo": {
     "elapsed": 1074,
     "status": "ok",
     "timestamp": 1719507645872,
     "user": {
      "displayName": "Harsh Raj",
      "userId": "13475918194215025488"
     },
     "user_tz": -330
    },
    "id": "2a4d0a7c-f8da-46e6-be1b-c92802f045c1",
    "outputId": "e42ccb67-3909-4349-fb40-a7a78ed641a1"
   },
   "outputs": [
    {
     "data": {
      "text/plain": [
       "array([1, 0])"
      ]
     },
     "execution_count": 67,
     "metadata": {},
     "output_type": "execute_result"
    }
   ],
   "source": [
    "data[\"health_condition\"].unique() # gives the unique values of health_condition"
   ]
  },
  {
   "cell_type": "code",
   "execution_count": 68,
   "id": "36b10ad8-e3e2-40fa-880a-5afce71c6acf",
   "metadata": {
    "colab": {
     "base_uri": "https://localhost:8080/",
     "height": 462
    },
    "executionInfo": {
     "elapsed": 6,
     "status": "ok",
     "timestamp": 1719507647450,
     "user": {
      "displayName": "Harsh Raj",
      "userId": "13475918194215025488"
     },
     "user_tz": -330
    },
    "id": "36b10ad8-e3e2-40fa-880a-5afce71c6acf",
    "outputId": "04968365-9618-43e6-ef3b-618a94c044b0"
   },
   "outputs": [
    {
     "data": {
      "text/plain": [
       "<AxesSubplot:>"
      ]
     },
     "execution_count": 68,
     "metadata": {},
     "output_type": "execute_result"
    },
    {
     "data": {
      "image/png": "[encoded data removed]",
      "text/plain": [
       "<Figure size 640x480 with 1 Axes>"
      ]
     },
     "metadata": {},
     "output_type": "display_data"
    }
   ],
   "source": [
    "data[\"health_condition\"].value_counts().plot.bar()  # plot of health_condition"
   ]
  },
  {
   "cell_type": "code",
   "execution_count": 69,
   "id": "0917a262-f412-448c-a85f-8b29e7163370",
   "metadata": {
    "colab": {
     "base_uri": "https://localhost:8080/"
    },
    "executionInfo": {
     "elapsed": 515,
     "status": "ok",
     "timestamp": 1719507648723,
     "user": {
      "displayName": "Harsh Raj",
      "userId": "13475918194215025488"
     },
     "user_tz": -330
    },
    "id": "0917a262-f412-448c-a85f-8b29e7163370",
    "outputId": "2851e94e-2302-443d-a0d1-406ecf798ee7"
   },
   "outputs": [
    {
     "data": {
      "text/plain": [
       "1    543\n",
       "0     26\n",
       "Name: health_condition, dtype: int64"
      ]
     },
     "execution_count": 69,
     "metadata": {},
     "output_type": "execute_result"
    }
   ],
   "source": [
    "data[\"health_condition\"].value_counts()  # gives the value count of every unique health conditions"
   ]
  },
  {
   "cell_type": "markdown",
   "id": "-s6FjDfTiWXC",
   "metadata": {
    "id": "-s6FjDfTiWXC"
   },
   "source": [
    "### A Seaborn heatmap is a data visualization tool that displays a matrix of values as a grid of colors, making it easy to identify patterns, correlations, and variations in the data. It is particularly useful for visualizing correlation matrices, confusion matrices, and other types of matrix data."
   ]
  },
  {
   "cell_type": "code",
   "execution_count": 70,
   "id": "b0639500-5651-454e-8326-80e0b38c325d",
   "metadata": {
    "colab": {
     "base_uri": "https://localhost:8080/",
     "height": 555
    },
    "executionInfo": {
     "elapsed": 920,
     "status": "ok",
     "timestamp": 1719507653514,
     "user": {
      "displayName": "Harsh Raj",
      "userId": "13475918194215025488"
     },
     "user_tz": -330
    },
    "id": "b0639500-5651-454e-8326-80e0b38c325d",
    "outputId": "0163947c-6051-4a2d-b19d-11385d6512a8"
   },
   "outputs": [
    {
     "data": {
      "text/plain": [
       "<AxesSubplot:>"
      ]
     },
     "execution_count": 70,
     "metadata": {},
     "output_type": "execute_result"
    },
    {
     "data": {
      "image/png": "[encoded data removed]",
      "text/plain": [
       "<Figure size 640x480 with 2 Axes>"
      ]
     },
     "metadata": {},
     "output_type": "display_data"
    }
   ],
   "source": [
    "sns.heatmap(data.corr())  # plot the heat map of the data"
   ]
  },
  {
   "cell_type": "code",
   "execution_count": 71,
   "id": "_YsaJoHziqPC",
   "metadata": {
    "executionInfo": {
     "elapsed": 4,
     "status": "ok",
     "timestamp": 1719507653514,
     "user": {
      "displayName": "Harsh Raj",
      "userId": "13475918194215025488"
     },
     "user_tz": -330
    },
    "id": "_YsaJoHziqPC"
   },
   "outputs": [],
   "source": [
    "# Fill missing values\n",
    "data.fillna(method='ffill', inplace=True)"
   ]
  },
  {
   "cell_type": "code",
   "execution_count": 72,
   "id": "6NpNPZOiivE4",
   "metadata": {
    "executionInfo": {
     "elapsed": 518,
     "status": "ok",
     "timestamp": 1719507657726,
     "user": {
      "displayName": "Harsh Raj",
      "userId": "13475918194215025488"
     },
     "user_tz": -330
    },
    "id": "6NpNPZOiivE4"
   },
   "outputs": [],
   "source": [
    "# Convert all feature columns to numeric\n",
    "for col in data.columns:\n",
    "    data[col] = pd.to_numeric(data[col], errors='coerce')"
   ]
  },
  {
   "cell_type": "code",
   "execution_count": 73,
   "id": "fthKrROZiu33",
   "metadata": {
    "executionInfo": {
     "elapsed": 2,
     "status": "ok",
     "timestamp": 1719507658823,
     "user": {
      "displayName": "Harsh Raj",
      "userId": "13475918194215025488"
     },
     "user_tz": -330
    },
    "id": "fthKrROZiu33"
   },
   "outputs": [],
   "source": [
    "# Fill any remaining NaNs that might have been introduced\n",
    "data.fillna(0, inplace=True)"
   ]
  },
  {
   "cell_type": "code",
   "execution_count": 74,
   "id": "scg8GT-siukT",
   "metadata": {
    "executionInfo": {
     "elapsed": 3,
     "status": "ok",
     "timestamp": 1719507659543,
     "user": {
      "displayName": "Harsh Raj",
      "userId": "13475918194215025488"
     },
     "user_tz": -330
    },
    "id": "scg8GT-siukT"
   },
   "outputs": [],
   "source": [
    "# Encode the target variable\n",
    "from sklearn.preprocessing import LabelEncoder\n",
    "label_encoder = LabelEncoder()\n",
    "data['health_condition'] = label_encoder.fit_transform(data['health_condition'])"
   ]
  },
  {
   "cell_type": "code",
   "execution_count": 75,
   "id": "6ff31ff3-13bc-419a-aa3b-b68b4866299c",
   "metadata": {
    "executionInfo": {
     "elapsed": 2,
     "status": "ok",
     "timestamp": 1719507660918,
     "user": {
      "displayName": "Harsh Raj",
      "userId": "13475918194215025488"
     },
     "user_tz": -330
    },
    "id": "6ff31ff3-13bc-419a-aa3b-b68b4866299c"
   },
   "outputs": [],
   "source": [
    "# Define features and target\n",
    "X = data.drop('health_condition', axis=1)\n",
    "y = data['health_condition']"
   ]
  },
  {
   "cell_type": "markdown",
   "id": "JXHwmjcQFEug",
   "metadata": {
    "id": "JXHwmjcQFEug"
   },
   "source": [
    "### **3. Model Development:**\n",
    "Split the dataset into training and testing sets, and implement a Decision Tree Classifier using TensorFlow."
   ]
  },
  {
   "cell_type": "code",
   "execution_count": 76,
   "id": "6oaWSvJtjMjX",
   "metadata": {
    "executionInfo": {
     "elapsed": 2,
     "status": "ok",
     "timestamp": 1719507661607,
     "user": {
      "displayName": "Harsh Raj",
      "userId": "13475918194215025488"
     },
     "user_tz": -330
    },
    "id": "6oaWSvJtjMjX"
   },
   "outputs": [],
   "source": [
    "# Split the dataset into training and testing sets\n",
    "X_train, X_test, y_train, y_test = train_test_split(X, y, test_size=0.2, random_state=42)"
   ]
  },
  {
   "cell_type": "code",
   "execution_count": 77,
   "id": "S-4Y0tTHjN36",
   "metadata": {
    "executionInfo": {
     "elapsed": 514,
     "status": "ok",
     "timestamp": 1719507664773,
     "user": {
      "displayName": "Harsh Raj",
      "userId": "13475918194215025488"
     },
     "user_tz": -330
    },
    "id": "S-4Y0tTHjN36"
   },
   "outputs": [],
   "source": [
    "# Build the Decision Tree Classifier model\n",
    "model = tf.keras.Sequential([\n",
    "    tf.keras.layers.Input(shape=(X_train.shape[1],)),\n",
    "    tf.keras.layers.Dense(128, activation='relu'),\n",
    "    tf.keras.layers.Dense(64, activation='relu'),\n",
    "    tf.keras.layers.Dense(len(label_encoder.classes_), activation='softmax')\n",
    "])"
   ]
  },
  {
   "cell_type": "code",
   "execution_count": 78,
   "id": "XFWm3eccKkzK",
   "metadata": {
    "executionInfo": {
     "elapsed": 1,
     "status": "ok",
     "timestamp": 1719507665440,
     "user": {
      "displayName": "Harsh Raj",
      "userId": "13475918194215025488"
     },
     "user_tz": -330
    },
    "id": "XFWm3eccKkzK"
   },
   "outputs": [],
   "source": [
    "# Compile the model\n",
    "model.compile(optimizer='adam', loss='sparse_categorical_crossentropy', metrics=['accuracy'])"
   ]
  },
  {
   "cell_type": "markdown",
   "id": "XAEHkelZFhfZ",
   "metadata": {
    "id": "XAEHkelZFhfZ"
   },
   "source": [
    "### **4. Model Training**\n",
    "Train the model using the training data and monitor its performance."
   ]
  },
  {
   "cell_type": "code",
   "execution_count": 79,
   "id": "3a198884-0e31-4304-b56c-56a2cdb9de92",
   "metadata": {
    "executionInfo": {
     "elapsed": 2,
     "status": "ok",
     "timestamp": 1719507667017,
     "user": {
      "displayName": "Harsh Raj",
      "userId": "13475918194215025488"
     },
     "user_tz": -330
    },
    "id": "3a198884-0e31-4304-b56c-56a2cdb9de92"
   },
   "outputs": [],
   "source": [
    "X = data.loc[:,[\"heart_rate\",\"temperature\",\"SpO2_saturation\"]]"
   ]
  },
  {
   "cell_type": "code",
   "execution_count": 80,
   "id": "686e0661-2ed9-4ba8-80a0-ee1389fa098b",
   "metadata": {
    "colab": {
     "base_uri": "https://localhost:8080/",
     "height": 424
    },
    "executionInfo": {
     "elapsed": 5,
     "status": "ok",
     "timestamp": 1719507667870,
     "user": {
      "displayName": "Harsh Raj",
      "userId": "13475918194215025488"
     },
     "user_tz": -330
    },
    "id": "686e0661-2ed9-4ba8-80a0-ee1389fa098b",
    "outputId": "3298b68c-14c3-400b-a134-ff6dc2796fad"
   },
   "outputs": [
    {
     "data": {
      "text/html": [
       "<div>\n",
       "<style scoped>\n",
       "    .dataframe tbody tr th:only-of-type {\n",
       "        vertical-align: middle;\n",
       "    }\n",
       "\n",
       "    .dataframe tbody tr th {\n",
       "        vertical-align: top;\n",
       "    }\n",
       "\n",
       "    .dataframe thead th {\n",
       "        text-align: right;\n",
       "    }\n",
       "</style>\n",
       "<table border=\"1\" class=\"dataframe\">\n",
       "  <thead>\n",
       "    <tr style=\"text-align: right;\">\n",
       "      <th></th>\n",
       "      <th>heart_rate</th>\n",
       "      <th>temperature</th>\n",
       "      <th>SpO2_saturation</th>\n",
       "    </tr>\n",
       "  </thead>\n",
       "  <tbody>\n",
       "    <tr>\n",
       "      <th>0</th>\n",
       "      <td>70</td>\n",
       "      <td>38.6</td>\n",
       "      <td>88.0</td>\n",
       "    </tr>\n",
       "    <tr>\n",
       "      <th>1</th>\n",
       "      <td>74</td>\n",
       "      <td>39.6</td>\n",
       "      <td>88.0</td>\n",
       "    </tr>\n",
       "    <tr>\n",
       "      <th>2</th>\n",
       "      <td>82</td>\n",
       "      <td>37.2</td>\n",
       "      <td>98.0</td>\n",
       "    </tr>\n",
       "    <tr>\n",
       "      <th>3</th>\n",
       "      <td>90</td>\n",
       "      <td>38.6</td>\n",
       "      <td>98.0</td>\n",
       "    </tr>\n",
       "    <tr>\n",
       "      <th>4</th>\n",
       "      <td>72</td>\n",
       "      <td>39.6</td>\n",
       "      <td>93.0</td>\n",
       "    </tr>\n",
       "    <tr>\n",
       "      <th>...</th>\n",
       "      <td>...</td>\n",
       "      <td>...</td>\n",
       "      <td>...</td>\n",
       "    </tr>\n",
       "    <tr>\n",
       "      <th>970</th>\n",
       "      <td>111</td>\n",
       "      <td>38.0</td>\n",
       "      <td>30.0</td>\n",
       "    </tr>\n",
       "    <tr>\n",
       "      <th>1019</th>\n",
       "      <td>109</td>\n",
       "      <td>38.0</td>\n",
       "      <td>30.0</td>\n",
       "    </tr>\n",
       "    <tr>\n",
       "      <th>1020</th>\n",
       "      <td>110</td>\n",
       "      <td>38.0</td>\n",
       "      <td>30.0</td>\n",
       "    </tr>\n",
       "    <tr>\n",
       "      <th>1031</th>\n",
       "      <td>108</td>\n",
       "      <td>38.0</td>\n",
       "      <td>30.0</td>\n",
       "    </tr>\n",
       "    <tr>\n",
       "      <th>1052</th>\n",
       "      <td>107</td>\n",
       "      <td>38.0</td>\n",
       "      <td>30.0</td>\n",
       "    </tr>\n",
       "  </tbody>\n",
       "</table>\n",
       "<p>569 rows × 3 columns</p>\n",
       "</div>"
      ],
      "text/plain": [
       "      heart_rate  temperature  SpO2_saturation\n",
       "0             70         38.6             88.0\n",
       "1             74         39.6             88.0\n",
       "2             82         37.2             98.0\n",
       "3             90         38.6             98.0\n",
       "4             72         39.6             93.0\n",
       "...          ...          ...              ...\n",
       "970          111         38.0             30.0\n",
       "1019         109         38.0             30.0\n",
       "1020         110         38.0             30.0\n",
       "1031         108         38.0             30.0\n",
       "1052         107         38.0             30.0\n",
       "\n",
       "[569 rows x 3 columns]"
      ]
     },
     "execution_count": 80,
     "metadata": {},
     "output_type": "execute_result"
    }
   ],
   "source": [
    "X"
   ]
  },
  {
   "cell_type": "code",
   "execution_count": 81,
   "id": "1c574e38-29a7-44fc-8983-e24a3f264f6b",
   "metadata": {
    "executionInfo": {
     "elapsed": 1,
     "status": "ok",
     "timestamp": 1719507668627,
     "user": {
      "displayName": "Harsh Raj",
      "userId": "13475918194215025488"
     },
     "user_tz": -330
    },
    "id": "1c574e38-29a7-44fc-8983-e24a3f264f6b"
   },
   "outputs": [],
   "source": [
    "y = data.iloc[:,3].astype(int)"
   ]
  },
  {
   "cell_type": "code",
   "execution_count": 82,
   "id": "51060de4-0256-4e3e-915f-488cc6f28cb7",
   "metadata": {
    "colab": {
     "base_uri": "https://localhost:8080/"
    },
    "executionInfo": {
     "elapsed": 552,
     "status": "ok",
     "timestamp": 1719507672360,
     "user": {
      "displayName": "Harsh Raj",
      "userId": "13475918194215025488"
     },
     "user_tz": -330
    },
    "id": "51060de4-0256-4e3e-915f-488cc6f28cb7",
    "outputId": "9656998f-a774-47ad-b380-9b5f8e656c7a"
   },
   "outputs": [
    {
     "data": {
      "text/plain": [
       "0       1\n",
       "1       1\n",
       "2       0\n",
       "3       1\n",
       "4       1\n",
       "       ..\n",
       "970     1\n",
       "1019    1\n",
       "1020    1\n",
       "1031    1\n",
       "1052    1\n",
       "Name: health_condition, Length: 569, dtype: int64"
      ]
     },
     "execution_count": 82,
     "metadata": {},
     "output_type": "execute_result"
    }
   ],
   "source": [
    "y"
   ]
  },
  {
   "cell_type": "code",
   "execution_count": 83,
   "id": "fbe2290c-0f0d-4331-ad3a-ecb9242f3c9e",
   "metadata": {
    "executionInfo": {
     "elapsed": 2,
     "status": "ok",
     "timestamp": 1719507673170,
     "user": {
      "displayName": "Harsh Raj",
      "userId": "13475918194215025488"
     },
     "user_tz": -330
    },
    "id": "fbe2290c-0f0d-4331-ad3a-ecb9242f3c9e"
   },
   "outputs": [],
   "source": [
    "X_train, X_test, y_train, y_test = train_test_split(X, y, train_size=0.7, random_state=42)"
   ]
  },
  {
   "cell_type": "code",
   "execution_count": 84,
   "id": "dd998b57-56c1-4e20-ab77-b565e45693f6",
   "metadata": {
    "colab": {
     "base_uri": "https://localhost:8080/"
    },
    "executionInfo": {
     "elapsed": 3,
     "status": "ok",
     "timestamp": 1719507675253,
     "user": {
      "displayName": "Harsh Raj",
      "userId": "13475918194215025488"
     },
     "user_tz": -330
    },
    "id": "dd998b57-56c1-4e20-ab77-b565e45693f6",
    "outputId": "c12bf34b-a2ae-4db8-8c25-7383e02f9eff"
   },
   "outputs": [
    {
     "data": {
      "text/plain": [
       "[[105.0, 39.6, 82.0],\n",
       " [91.0, 38.0, 97.0],\n",
       " [68.0, 37.6, 30.0],\n",
       " [61.0, 37.5, 85.0],\n",
       " [112.0, 38.5, 30.0],\n",
       " [74.0, 37.9, 89.0],\n",
       " [86.0, 38.0, 90.0],\n",
       " [83.0, 39.0, 30.0],\n",
       " [69.0, 38.0, 90.0],\n",
       " [107.0, 38.5, 175.0],\n",
       " [77.0, 39.0, 30.0],\n",
       " [78.0, 38.0, 97.0],\n",
       " [95.0, 38.6, 82.0],\n",
       " [97.0, 38.5, 85.0],\n",
       " [72.0, 39.6, 97.0],\n",
       " [113.0, 38.5, 87.3],\n",
       " [70.0, 38.6, 95.0],\n",
       " [60.0, 36.5, 85.0],\n",
       " [71.0, 39.0, 30.0],\n",
       " [96.0, 37.2, 91.0],\n",
       " [96.0, 38.5, 85.0],\n",
       " [84.0, 38.9, 75.0],\n",
       " [109.0, 38.5, 30.0],\n",
       " [112.0, 39.0, 85.0],\n",
       " [99.0, 39.0, 85.0],\n",
       " [87.0, 37.2, 91.0],\n",
       " [76.0, 38.0, 90.0],\n",
       " [94.0, 37.2, 96.0],\n",
       " [78.0, 38.1, 30.0],\n",
       " [82.0, 38.9, 75.0],\n",
       " [112.0, 38.5, 87.3],\n",
       " [90.0, 37.8, 91.0],\n",
       " [61.0, 38.1, 80.0],\n",
       " [75.0, 39.0, 85.0],\n",
       " [80.0, 38.0, 98.0],\n",
       " [90.0, 38.9, 75.0],\n",
       " [56.0, 38.1, 20.0],\n",
       " [101.0, 37.2, 82.0],\n",
       " [77.0, 38.0, 84.0],\n",
       " [110.0, 38.5, 30.0],\n",
       " [115.0, 37.9, 30.0],\n",
       " [90.0, 38.5, 85.0],\n",
       " [62.0, 39.6, 85.0],\n",
       " [81.0, 37.2, 96.0],\n",
       " [77.0, 38.0, 97.0],\n",
       " [107.0, 38.9, 75.0],\n",
       " [63.0, 37.2, 85.0],\n",
       " [65.0, 38.1, 35.0],\n",
       " [83.0, 38.9, 75.0],\n",
       " [86.0, 37.2, 91.0],\n",
       " [97.0, 38.2, 92.0],\n",
       " [83.0, 37.2, 96.0],\n",
       " [68.0, 39.6, 95.0],\n",
       " [71.0, 38.1, 85.0],\n",
       " [79.0, 37.8, 91.0],\n",
       " [95.0, 38.9, 85.0],\n",
       " [95.0, 39.0, 85.0],\n",
       " [82.0, 37.1, 96.0],\n",
       " [99.0, 36.8, 95.0],\n",
       " [106.0, 38.5, 175.0],\n",
       " [106.0, 38.5, 85.0],\n",
       " [92.0, 37.5, 66.0],\n",
       " [91.0, 36.7, 88.0],\n",
       " [109.0, 38.5, 99.0],\n",
       " [71.0, 38.0, 97.0],\n",
       " [60.0, 36.4, 85.0],\n",
       " [68.0, 38.1, 75.0],\n",
       " [72.0, 37.8, 92.0],\n",
       " [88.0, 39.6, 96.0],\n",
       " [115.0, 38.5, 87.3],\n",
       " [56.0, 38.1, 25.0],\n",
       " [91.0, 38.9, 75.0],\n",
       " [93.0, 39.0, 85.0],\n",
       " [72.0, 37.2, 93.0],\n",
       " [80.0, 38.0, 97.0],\n",
       " [68.0, 38.0, 91.0],\n",
       " [99.0, 38.0, 98.0],\n",
       " [82.0, 37.9, 67.0],\n",
       " [54.0, 38.1, 70.0],\n",
       " [70.0, 38.1, 55.0],\n",
       " [78.0, 38.6, 70.0],\n",
       " [67.0, 36.5, 91.0],\n",
       " [114.0, 38.5, 30.0],\n",
       " [74.0, 38.1, 70.0],\n",
       " [90.0, 38.6, 98.0],\n",
       " [95.0, 38.5, 85.0],\n",
       " [69.0, 38.1, 75.0],\n",
       " [86.0, 38.0, 98.0],\n",
       " [78.0, 39.6, 96.0],\n",
       " [77.0, 39.6, 91.0],\n",
       " [80.0, 38.0, 90.0],\n",
       " [76.0, 37.2, 96.0],\n",
       " [63.0, 39.6, 82.0],\n",
       " [93.0, 38.0, 90.0],\n",
       " [108.0, 38.5, 87.3],\n",
       " [60.0, 37.2, 85.0],\n",
       " [69.0, 37.7, 95.0],\n",
       " [69.0, 38.9, 75.0],\n",
       " [66.0, 36.5, 85.0],\n",
       " [96.0, 38.2, 92.0],\n",
       " [65.0, 36.5, 91.0],\n",
       " [116.0, 39.0, 85.0],\n",
       " [59.0, 38.0, 85.0],\n",
       " [104.0, 37.6, 84.0],\n",
       " [88.0, 38.5, 79.0],\n",
       " [58.0, 36.5, 85.0],\n",
       " [87.0, 39.6, 82.0],\n",
       " [55.0, 38.1, 40.0],\n",
       " [88.0, 38.9, 75.0],\n",
       " [70.0, 38.1, 70.0],\n",
       " [85.0, 38.9, 75.0],\n",
       " [92.0, 36.9, 92.0],\n",
       " [56.0, 37.6, 30.0],\n",
       " [77.0, 37.8, 91.0],\n",
       " [77.0, 37.6, 30.0],\n",
       " [111.0, 38.5, 30.0],\n",
       " [89.0, 38.0, 97.0],\n",
       " [58.0, 38.1, 30.0],\n",
       " [61.0, 38.1, 40.0],\n",
       " [69.0, 38.3, 70.0],\n",
       " [101.0, 36.8, 95.0],\n",
       " [95.0, 38.9, 75.0],\n",
       " [60.0, 38.1, 80.0],\n",
       " [60.0, 38.1, 30.0],\n",
       " [92.0, 36.1, 66.0],\n",
       " [67.0, 38.1, 55.0],\n",
       " [87.0, 37.2, 96.0],\n",
       " [113.0, 38.0, 82.0],\n",
       " [87.0, 37.9, 89.0],\n",
       " [100.0, 38.5, 85.0],\n",
       " [86.0, 37.5, 91.0],\n",
       " [72.0, 38.0, 97.0],\n",
       " [93.0, 38.5, 75.0],\n",
       " [60.0, 38.1, 45.0],\n",
       " [84.0, 37.9, 67.0],\n",
       " [60.0, 38.1, 98.0],\n",
       " [81.0, 38.9, 92.0],\n",
       " [103.0, 37.2, 82.0],\n",
       " [78.0, 37.9, 85.0],\n",
       " [94.0, 36.1, 66.0],\n",
       " [97.0, 37.2, 96.0],\n",
       " [65.0, 39.0, 30.0],\n",
       " [96.0, 38.9, 75.0],\n",
       " [63.0, 37.8, 85.0],\n",
       " [79.0, 38.9, 75.0],\n",
       " [118.0, 38.6, 82.0],\n",
       " [92.0, 36.8, 88.0],\n",
       " [94.0, 39.6, 82.0],\n",
       " [62.0, 38.1, 70.0],\n",
       " [56.0, 38.1, 60.0],\n",
       " [88.0, 38.0, 97.0],\n",
       " [109.0, 38.5, 175.0],\n",
       " [72.0, 37.8, 70.0],\n",
       " [79.0, 37.2, 82.0],\n",
       " [94.0, 38.0, 90.0],\n",
       " [96.0, 39.4, 90.0],\n",
       " [68.0, 36.5, 70.0],\n",
       " [97.0, 38.9, 75.0],\n",
       " [110.0, 38.5, 45.0],\n",
       " [82.0, 37.6, 84.0],\n",
       " [72.0, 37.3, 97.0],\n",
       " [85.0, 38.0, 97.0],\n",
       " [60.0, 37.8, 85.0],\n",
       " [63.0, 37.8, 70.0],\n",
       " [99.0, 38.9, 75.0],\n",
       " [97.0, 38.0, 89.0],\n",
       " [64.0, 38.1, 80.0],\n",
       " [60.0, 38.1, 20.0],\n",
       " [73.0, 37.3, 97.0],\n",
       " [60.0, 38.1, 340.0],\n",
       " [96.0, 39.4, 88.0],\n",
       " [55.0, 38.1, 80.0],\n",
       " [86.0, 38.0, 97.0],\n",
       " [63.0, 38.1, 80.0],\n",
       " [89.0, 38.0, 98.0],\n",
       " [60.0, 38.1, 55.0],\n",
       " [68.0, 39.6, 91.0],\n",
       " [79.0, 38.0, 98.0],\n",
       " [80.0, 38.0, 82.0],\n",
       " [107.0, 38.5, 85.0],\n",
       " [56.0, 38.1, 55.0],\n",
       " [69.0, 39.0, 30.0],\n",
       " [90.0, 38.2, 87.0],\n",
       " [55.0, 38.1, 55.0],\n",
       " [67.0, 38.1, 70.0],\n",
       " [58.0, 38.1, 45.0],\n",
       " [81.0, 37.6, 84.0],\n",
       " [89.0, 37.7, 95.0],\n",
       " [82.0, 37.7, 95.0],\n",
       " [57.0, 38.1, 40.0],\n",
       " [68.0, 38.0, 97.0],\n",
       " [64.0, 37.2, 85.0],\n",
       " [77.0, 38.5, 79.0],\n",
       " [81.0, 39.0, 30.0],\n",
       " [73.0, 39.0, 30.0],\n",
       " [71.0, 38.9, 75.0],\n",
       " [117.0, 37.2, 82.0],\n",
       " [71.0, 38.1, 98.0],\n",
       " [105.0, 38.0, 90.0],\n",
       " [92.0, 38.9, 75.0],\n",
       " [63.0, 38.1, 20.0],\n",
       " [62.0, 37.5, 82.0],\n",
       " [81.0, 38.9, 75.0],\n",
       " [72.0, 38.6, 82.0],\n",
       " [62.0, 38.0, 85.0],\n",
       " [73.0, 38.1, 70.0],\n",
       " [84.0, 37.9, 89.0],\n",
       " [110.0, 38.0, 90.0],\n",
       " [83.0, 38.0, 97.0],\n",
       " [79.0, 38.0, 97.0],\n",
       " [68.0, 37.3, 97.0],\n",
       " [66.0, 38.1, 130.0],\n",
       " [84.0, 38.0, 98.0],\n",
       " [97.0, 39.0, 85.0],\n",
       " [64.0, 39.0, 30.0],\n",
       " [54.0, 38.1, 20.0],\n",
       " [83.0, 38.0, 84.0],\n",
       " [114.0, 38.0, 30.0],\n",
       " [85.0, 39.0, 85.0],\n",
       " [107.0, 38.5, 100.0],\n",
       " [92.0, 38.5, 85.0],\n",
       " [47.0, 95.0, 92.0],\n",
       " [113.0, 38.5, 79.0],\n",
       " [78.0, 39.0, 30.0],\n",
       " [65.0, 38.6, 82.0],\n",
       " [64.0, 40.0, 93.0],\n",
       " [77.0, 38.0, 91.0],\n",
       " [65.0, 38.0, 85.0],\n",
       " [67.0, 38.0, 91.0],\n",
       " [76.0, 39.0, 85.0],\n",
       " [77.0, 37.8, 98.0],\n",
       " [88.0, 38.0, 89.0],\n",
       " [61.0, 36.5, 85.0],\n",
       " [91.0, 36.1, 66.0],\n",
       " [69.0, 37.2, 82.0],\n",
       " [63.0, 37.2, 70.0],\n",
       " [75.0, 39.6, 96.0],\n",
       " [75.0, 37.2, 96.0],\n",
       " [64.0, 38.0, 85.0],\n",
       " [98.0, 39.6, 82.0],\n",
       " [97.0, 36.8, 95.0],\n",
       " [74.0, 37.6, 30.0],\n",
       " [62.0, 38.5, 93.0],\n",
       " [77.0, 38.0, 98.0],\n",
       " [109.0, 38.5, 85.0],\n",
       " [73.0, 38.0, 70.0],\n",
       " [100.0, 37.2, 91.0],\n",
       " [83.0, 38.0, 89.0],\n",
       " [115.0, 38.0, 30.0],\n",
       " [55.0, 38.1, 45.0],\n",
       " [83.0, 38.2, 66.0],\n",
       " [61.0, 37.2, 85.0],\n",
       " [90.0, 37.0, 88.0],\n",
       " [95.0, 37.5, 91.0],\n",
       " [106.0, 38.5, 105.0],\n",
       " [88.0, 38.5, 85.0],\n",
       " [61.0, 39.0, 70.0],\n",
       " [59.0, 38.1, 55.0],\n",
       " [78.0, 39.0, 85.0],\n",
       " [59.0, 38.1, 25.0],\n",
       " [95.0, 38.1, 30.0],\n",
       " [48.0, 37.9, 89.0],\n",
       " [91.0, 38.5, 85.0],\n",
       " [72.0, 39.6, 93.0],\n",
       " [79.0, 37.9, 89.0],\n",
       " [110.0, 38.5, 99.0],\n",
       " [69.0, 37.3, 97.0],\n",
       " [90.0, 39.0, 95.0],\n",
       " [79.0, 38.0, 90.0],\n",
       " [106.0, 38.5, 65.0],\n",
       " [78.0, 36.9, 98.0],\n",
       " [60.0, 38.1, 90.0],\n",
       " [65.0, 37.8, 85.0],\n",
       " [71.0, 36.5, 70.0],\n",
       " [93.0, 37.6, 84.0],\n",
       " [83.0, 36.9, 98.0],\n",
       " [89.0, 37.8, 91.0],\n",
       " [70.0, 39.0, 30.0],\n",
       " [85.0, 37.8, 91.0],\n",
       " [80.0, 39.6, 96.0],\n",
       " [67.0, 37.6, 30.0],\n",
       " [70.0, 37.9, 85.0],\n",
       " [104.0, 38.9, 75.0],\n",
       " [59.0, 37.8, 85.0],\n",
       " [77.0, 39.6, 82.0],\n",
       " [89.0, 37.2, 96.0],\n",
       " [90.0, 40.0, 88.0],\n",
       " [75.0, 38.0, 90.0],\n",
       " [81.0, 37.9, 89.0],\n",
       " [66.0, 38.1, 165.0],\n",
       " [119.0, 39.0, 85.0],\n",
       " [76.0, 37.6, 30.0],\n",
       " [61.0, 37.2, 82.0],\n",
       " [60.0, 38.1, 35.0],\n",
       " [111.0, 38.5, 85.0],\n",
       " [93.0, 37.2, 82.0],\n",
       " [72.0, 37.8, 91.0],\n",
       " [81.0, 37.2, 82.0],\n",
       " [90.0, 38.0, 82.0],\n",
       " [116.0, 38.5, 30.0],\n",
       " [65.0, 37.2, 96.0],\n",
       " [106.0, 38.9, 75.0],\n",
       " [58.0, 38.1, 40.0],\n",
       " [66.0, 38.0, 91.0],\n",
       " [77.0, 38.9, 75.0],\n",
       " [73.0, 39.6, 70.0],\n",
       " [65.0, 37.2, 82.0],\n",
       " [79.0, 37.5, 91.0],\n",
       " [67.0, 38.1, 35.0],\n",
       " [64.0, 36.4, 85.0],\n",
       " [96.0, 39.0, 85.0],\n",
       " [87.0, 38.0, 98.0],\n",
       " [66.0, 39.0, 30.0],\n",
       " [68.0, 39.0, 85.0],\n",
       " [78.0, 37.2, 91.0],\n",
       " [108.0, 38.5, 175.0],\n",
       " [67.0, 38.1, 75.0],\n",
       " [72.0, 38.0, 90.0],\n",
       " [59.0, 39.0, 70.0],\n",
       " [81.0, 36.9, 98.0],\n",
       " [80.0, 37.1, 96.0],\n",
       " [110.0, 38.5, 87.3],\n",
       " [96.0, 38.0, 89.0],\n",
       " [112.0, 38.0, 30.0],\n",
       " [90.0, 38.5, 79.0],\n",
       " [66.0, 39.6, 80.0],\n",
       " [110.0, 38.0, 30.0],\n",
       " [87.0, 38.9, 75.0],\n",
       " [55.0, 38.1, 130.0],\n",
       " [91.0, 38.1, 85.0],\n",
       " [92.0, 38.5, 88.0],\n",
       " [64.0, 38.1, 98.0],\n",
       " [61.0, 38.0, 70.0],\n",
       " [59.0, 37.2, 82.0],\n",
       " [95.0, 37.8, 91.0],\n",
       " [78.0, 38.0, 98.0],\n",
       " [72.0, 39.0, 30.0],\n",
       " [60.0, 38.0, 85.0],\n",
       " [93.0, 36.8, 97.0],\n",
       " [67.0, 38.9, 75.0],\n",
       " [76.0, 37.9, 89.0],\n",
       " [92.0, 95.0, 92.0],\n",
       " [57.0, 38.1, 20.0],\n",
       " [74.0, 39.6, 88.0],\n",
       " [108.0, 38.5, 75.0],\n",
       " [70.0, 36.5, 61.3],\n",
       " [63.0, 39.0, 70.0],\n",
       " [80.0, 37.2, 96.0],\n",
       " [89.0, 38.5, 85.0],\n",
       " [66.0, 37.6, 30.0],\n",
       " [72.0, 38.0, 95.0],\n",
       " [62.0, 38.1, 20.0],\n",
       " [68.0, 36.5, 96.0],\n",
       " [65.0, 38.1, 55.0],\n",
       " [58.0, 38.1, 20.0],\n",
       " [89.0, 38.0, 89.0],\n",
       " [94.0, 38.6, 70.0],\n",
       " [73.0, 38.9, 75.0],\n",
       " [56.0, 38.1, 30.0],\n",
       " [88.0, 38.9, 85.0],\n",
       " [65.0, 37.8, 89.0],\n",
       " [113.0, 38.0, 30.0],\n",
       " [95.0, 38.5, 88.0],\n",
       " [116.0, 39.1, 30.0],\n",
       " [93.0, 38.5, 85.0],\n",
       " [85.0, 38.0, 89.0],\n",
       " [64.0, 37.8, 85.0],\n",
       " [91.0, 39.1, 97.0],\n",
       " [98.0, 38.5, 85.0],\n",
       " [92.0, 36.4, 91.0],\n",
       " [92.0, 36.0, 97.0],\n",
       " [90.0, 38.0, 89.0],\n",
       " [72.0, 37.2, 97.0],\n",
       " [74.0, 38.9, 75.0],\n",
       " [62.0, 38.5, 79.0],\n",
       " [68.0, 39.6, 82.0],\n",
       " [94.0, 39.0, 85.0],\n",
       " [66.0, 37.8, 85.0],\n",
       " [65.0, 38.1, 40.0],\n",
       " [60.0, 39.0, 30.0],\n",
       " [96.0, 39.0, 95.0],\n",
       " [59.0, 38.1, 40.0],\n",
       " [80.0, 38.9, 75.0],\n",
       " [84.0, 38.6, 82.0],\n",
       " [64.0, 36.5, 70.0],\n",
       " [66.0, 38.1, 80.0],\n",
       " [74.0, 38.0, 93.0],\n",
       " [108.0, 38.5, 79.0],\n",
       " [86.0, 38.5, 75.0],\n",
       " [76.0, 36.9, 98.0],\n",
       " [85.0, 38.2, 66.0],\n",
       " [87.0, 38.0, 97.0],\n",
       " [70.0, 39.6, 97.0],\n",
       " [68.0, 37.5, 91.0],\n",
       " [86.0, 95.0, 92.0],\n",
       " [80.0, 38.1, 85.0],\n",
       " [67.0, 38.3, 70.0],\n",
       " [92.0, 39.0, 95.0]]"
      ]
     },
     "execution_count": 84,
     "metadata": {},
     "output_type": "execute_result"
    }
   ],
   "source": [
    "X_train.values.tolist()"
   ]
  },
  {
   "cell_type": "code",
   "execution_count": 85,
   "id": "Sc6NkbVfjYJt",
   "metadata": {
    "executionInfo": {
     "elapsed": 520,
     "status": "ok",
     "timestamp": 1719507679640,
     "user": {
      "displayName": "Harsh Raj",
      "userId": "13475918194215025488"
     },
     "user_tz": -330
    },
    "id": "Sc6NkbVfjYJt"
   },
   "outputs": [],
   "source": [
    "# Convert to Pandas Series if y_train is a NumPy array\n",
    "if isinstance(y_train, np.ndarray):\n",
    "    y_train = pd.Series(y_train)"
   ]
  },
  {
   "cell_type": "code",
   "execution_count": 86,
   "id": "437734ae-7a8b-4634-9679-1c440212bd7f",
   "metadata": {
    "colab": {
     "base_uri": "https://localhost:8080/"
    },
    "executionInfo": {
     "elapsed": 7,
     "status": "ok",
     "timestamp": 1719507680530,
     "user": {
      "displayName": "Harsh Raj",
      "userId": "13475918194215025488"
     },
     "user_tz": -330
    },
    "id": "437734ae-7a8b-4634-9679-1c440212bd7f",
    "outputId": "45bebca5-2e7f-4de5-acc9-bb71a575d12f"
   },
   "outputs": [
    {
     "name": "stdout",
     "output_type": "stream",
     "text": [
      "[1, 1, 1, 1, 1, 1, 1, 1, 1, 1, 1, 1, 1, 1, 1, 1, 1, 1, 1, 1, 1, 1, 1, 1, 1, 1, 1, 0, 1, 1, 1, 1, 1, 1, 1, 1, 1, 1, 1, 1, 1, 1, 1, 0, 1, 1, 1, 1, 1, 1, 1, 0, 1, 1, 1, 1, 1, 0, 0, 1, 1, 1, 1, 1, 1, 1, 1, 1, 1, 1, 1, 1, 1, 1, 1, 1, 1, 1, 1, 1, 1, 1, 1, 1, 1, 1, 1, 1, 1, 1, 1, 0, 1, 1, 1, 1, 1, 1, 1, 1, 1, 1, 1, 1, 1, 1, 1, 1, 1, 1, 1, 1, 1, 1, 1, 1, 1, 1, 1, 1, 1, 1, 1, 1, 1, 1, 0, 1, 1, 1, 1, 1, 1, 1, 1, 1, 1, 1, 1, 1, 0, 1, 1, 1, 1, 1, 1, 1, 1, 1, 1, 1, 1, 1, 1, 1, 1, 1, 1, 1, 1, 1, 1, 1, 1, 1, 1, 1, 1, 1, 1, 1, 1, 1, 1, 1, 1, 1, 1, 1, 1, 1, 1, 1, 1, 1, 1, 1, 1, 1, 1, 1, 1, 1, 1, 1, 1, 1, 1, 1, 1, 1, 1, 1, 1, 1, 1, 1, 1, 1, 1, 1, 1, 1, 1, 1, 1, 1, 1, 1, 1, 1, 1, 1, 1, 1, 1, 1, 1, 1, 1, 1, 1, 1, 1, 1, 1, 0, 1, 1, 0, 1, 1, 1, 1, 1, 1, 1, 1, 1, 1, 1, 1, 1, 1, 1, 1, 1, 1, 1, 1, 1, 1, 1, 1, 1, 1, 1, 1, 1, 0, 1, 1, 1, 1, 0, 1, 1, 1, 1, 1, 1, 1, 1, 1, 0, 1, 1, 1, 1, 1, 1, 1, 1, 1, 1, 1, 1, 1, 1, 0, 1, 1, 1, 1, 1, 1, 1, 1, 1, 1, 1, 1, 1, 1, 1, 1, 1, 1, 0, 0, 1, 1, 1, 1, 1, 1, 1, 1, 1, 1, 1, 1, 1, 1, 1, 1, 1, 0, 1, 1, 1, 1, 1, 1, 1, 1, 0, 1, 1, 1, 1, 0, 1, 1, 1, 1, 1, 1, 1, 1, 1, 1, 1, 1, 1, 1, 1, 1, 1, 1, 1, 0, 1, 1, 1, 1, 1, 1, 1, 1, 1, 1, 1, 1, 1, 1, 1, 1, 0, 1, 1, 1, 1, 1, 1, 1, 1]\n"
     ]
    }
   ],
   "source": [
    "# Now you can use y_train.values.tolist() if necessary\n",
    "y_train_list = y_train.values.tolist()\n",
    "print(y_train_list)"
   ]
  },
  {
   "cell_type": "code",
   "execution_count": 87,
   "id": "01aa50dd-9ffe-430a-9325-78fb8a3dec0e",
   "metadata": {
    "colab": {
     "base_uri": "https://localhost:8080/",
     "height": 75
    },
    "executionInfo": {
     "elapsed": 733,
     "status": "ok",
     "timestamp": 1719508799898,
     "user": {
      "displayName": "Harsh Raj",
      "userId": "13475918194215025488"
     },
     "user_tz": -330
    },
    "id": "01aa50dd-9ffe-430a-9325-78fb8a3dec0e",
    "outputId": "181e802f-995c-4f97-f3bb-ec9bc3edcc72"
   },
   "outputs": [
    {
     "data": {
      "text/html": [
       "<style>#sk-container-id-1 {\n",
       "  /* Definition of color scheme common for light and dark mode */\n",
       "  --sklearn-color-text: black;\n",
       "  --sklearn-color-line: gray;\n",
       "  /* Definition of color scheme for unfitted estimators */\n",
       "  --sklearn-color-unfitted-level-0: #fff5e6;\n",
       "  --sklearn-color-unfitted-level-1: #f6e4d2;\n",
       "  --sklearn-color-unfitted-level-2: #ffe0b3;\n",
       "  --sklearn-color-unfitted-level-3: chocolate;\n",
       "  /* Definition of color scheme for fitted estimators */\n",
       "  --sklearn-color-fitted-level-0: #f0f8ff;\n",
       "  --sklearn-color-fitted-level-1: #d4ebff;\n",
       "  --sklearn-color-fitted-level-2: #b3dbfd;\n",
       "  --sklearn-color-fitted-level-3: cornflowerblue;\n",
       "\n",
       "  /* Specific color for light theme */\n",
       "  --sklearn-color-text-on-default-background: var(--sg-text-color, var(--theme-code-foreground, var(--jp-content-font-color1, black)));\n",
       "  --sklearn-color-background: var(--sg-background-color, var(--theme-background, var(--jp-layout-color0, white)));\n",
       "  --sklearn-color-border-box: var(--sg-text-color, var(--theme-code-foreground, var(--jp-content-font-color1, black)));\n",
       "  --sklearn-color-icon: #696969;\n",
       "\n",
       "  @media (prefers-color-scheme: dark) {\n",
       "    /* Redefinition of color scheme for dark theme */\n",
       "    --sklearn-color-text-on-default-background: var(--sg-text-color, var(--theme-code-foreground, var(--jp-content-font-color1, white)));\n",
       "    --sklearn-color-background: var(--sg-background-color, var(--theme-background, var(--jp-layout-color0, #111)));\n",
       "    --sklearn-color-border-box: var(--sg-text-color, var(--theme-code-foreground, var(--jp-content-font-color1, white)));\n",
       "    --sklearn-color-icon: #878787;\n",
       "  }\n",
       "}\n",
       "\n",
       "#sk-container-id-1 {\n",
       "  color: var(--sklearn-color-text);\n",
       "}\n",
       "\n",
       "#sk-container-id-1 pre {\n",
       "  padding: 0;\n",
       "}\n",
       "\n",
       "#sk-container-id-1 input.sk-hidden--visually {\n",
       "  border: 0;\n",
       "  clip: rect(1px 1px 1px 1px);\n",
       "  clip: rect(1px, 1px, 1px, 1px);\n",
       "  height: 1px;\n",
       "  margin: -1px;\n",
       "  overflow: hidden;\n",
       "  padding: 0;\n",
       "  position: absolute;\n",
       "  width: 1px;\n",
       "}\n",
       "\n",
       "#sk-container-id-1 div.sk-dashed-wrapped {\n",
       "  border: 1px dashed var(--sklearn-color-line);\n",
       "  margin: 0 0.4em 0.5em 0.4em;\n",
       "  box-sizing: border-box;\n",
       "  padding-bottom: 0.4em;\n",
       "  background-color: var(--sklearn-color-background);\n",
       "}\n",
       "\n",
       "#sk-container-id-1 div.sk-container {\n",
       "  /* jupyter's `normalize.less` sets `[hidden] { display: none; }`\n",
       "     but bootstrap.min.css set `[hidden] { display: none !important; }`\n",
       "     so we also need the `!important` here to be able to override the\n",
       "     default hidden behavior on the sphinx rendered scikit-learn.org.\n",
       "     See: https://github.com/scikit-learn/scikit-learn/issues/21755 */\n",
       "  display: inline-block !important;\n",
       "  position: relative;\n",
       "}\n",
       "\n",
       "#sk-container-id-1 div.sk-text-repr-fallback {\n",
       "  display: none;\n",
       "}\n",
       "\n",
       "div.sk-parallel-item,\n",
       "div.sk-serial,\n",
       "div.sk-item {\n",
       "  /* draw centered vertical line to link estimators */\n",
       "  background-image: linear-gradient(var(--sklearn-color-text-on-default-background), var(--sklearn-color-text-on-default-background));\n",
       "  background-size: 2px 100%;\n",
       "  background-repeat: no-repeat;\n",
       "  background-position: center center;\n",
       "}\n",
       "\n",
       "/* Parallel-specific style estimator block */\n",
       "\n",
       "#sk-container-id-1 div.sk-parallel-item::after {\n",
       "  content: \"\";\n",
       "  width: 100%;\n",
       "  border-bottom: 2px solid var(--sklearn-color-text-on-default-background);\n",
       "  flex-grow: 1;\n",
       "}\n",
       "\n",
       "#sk-container-id-1 div.sk-parallel {\n",
       "  display: flex;\n",
       "  align-items: stretch;\n",
       "  justify-content: center;\n",
       "  background-color: var(--sklearn-color-background);\n",
       "  position: relative;\n",
       "}\n",
       "\n",
       "#sk-container-id-1 div.sk-parallel-item {\n",
       "  display: flex;\n",
       "  flex-direction: column;\n",
       "}\n",
       "\n",
       "#sk-container-id-1 div.sk-parallel-item:first-child::after {\n",
       "  align-self: flex-end;\n",
       "  width: 50%;\n",
       "}\n",
       "\n",
       "#sk-container-id-1 div.sk-parallel-item:last-child::after {\n",
       "  align-self: flex-start;\n",
       "  width: 50%;\n",
       "}\n",
       "\n",
       "#sk-container-id-1 div.sk-parallel-item:only-child::after {\n",
       "  width: 0;\n",
       "}\n",
       "\n",
       "/* Serial-specific style estimator block */\n",
       "\n",
       "#sk-container-id-1 div.sk-serial {\n",
       "  display: flex;\n",
       "  flex-direction: column;\n",
       "  align-items: center;\n",
       "  background-color: var(--sklearn-color-background);\n",
       "  padding-right: 1em;\n",
       "  padding-left: 1em;\n",
       "}\n",
       "\n",
       "\n",
       "/* Toggleable style: style used for estimator/Pipeline/ColumnTransformer box that is\n",
       "clickable and can be expanded/collapsed.\n",
       "- Pipeline and ColumnTransformer use this feature and define the default style\n",
       "- Estimators will overwrite some part of the style using the `sk-estimator` class\n",
       "*/\n",
       "\n",
       "/* Pipeline and ColumnTransformer style (default) */\n",
       "\n",
       "#sk-container-id-1 div.sk-toggleable {\n",
       "  /* Default theme specific background. It is overwritten whether we have a\n",
       "  specific estimator or a Pipeline/ColumnTransformer */\n",
       "  background-color: var(--sklearn-color-background);\n",
       "}\n",
       "\n",
       "/* Toggleable label */\n",
       "#sk-container-id-1 label.sk-toggleable__label {\n",
       "  cursor: pointer;\n",
       "  display: block;\n",
       "  width: 100%;\n",
       "  margin-bottom: 0;\n",
       "  padding: 0.5em;\n",
       "  box-sizing: border-box;\n",
       "  text-align: center;\n",
       "}\n",
       "\n",
       "#sk-container-id-1 label.sk-toggleable__label-arrow:before {\n",
       "  /* Arrow on the left of the label */\n",
       "  content: \"▸\";\n",
       "  float: left;\n",
       "  margin-right: 0.25em;\n",
       "  color: var(--sklearn-color-icon);\n",
       "}\n",
       "\n",
       "#sk-container-id-1 label.sk-toggleable__label-arrow:hover:before {\n",
       "  color: var(--sklearn-color-text);\n",
       "}\n",
       "\n",
       "/* Toggleable content - dropdown */\n",
       "\n",
       "#sk-container-id-1 div.sk-toggleable__content {\n",
       "  max-height: 0;\n",
       "  max-width: 0;\n",
       "  overflow: hidden;\n",
       "  text-align: left;\n",
       "  /* unfitted */\n",
       "  background-color: var(--sklearn-color-unfitted-level-0);\n",
       "}\n",
       "\n",
       "#sk-container-id-1 div.sk-toggleable__content.fitted {\n",
       "  /* fitted */\n",
       "  background-color: var(--sklearn-color-fitted-level-0);\n",
       "}\n",
       "\n",
       "#sk-container-id-1 div.sk-toggleable__content pre {\n",
       "  margin: 0.2em;\n",
       "  border-radius: 0.25em;\n",
       "  color: var(--sklearn-color-text);\n",
       "  /* unfitted */\n",
       "  background-color: var(--sklearn-color-unfitted-level-0);\n",
       "}\n",
       "\n",
       "#sk-container-id-1 div.sk-toggleable__content.fitted pre {\n",
       "  /* unfitted */\n",
       "  background-color: var(--sklearn-color-fitted-level-0);\n",
       "}\n",
       "\n",
       "#sk-container-id-1 input.sk-toggleable__control:checked~div.sk-toggleable__content {\n",
       "  /* Expand drop-down */\n",
       "  max-height: 200px;\n",
       "  max-width: 100%;\n",
       "  overflow: auto;\n",
       "}\n",
       "\n",
       "#sk-container-id-1 input.sk-toggleable__control:checked~label.sk-toggleable__label-arrow:before {\n",
       "  content: \"▾\";\n",
       "}\n",
       "\n",
       "/* Pipeline/ColumnTransformer-specific style */\n",
       "\n",
       "#sk-container-id-1 div.sk-label input.sk-toggleable__control:checked~label.sk-toggleable__label {\n",
       "  color: var(--sklearn-color-text);\n",
       "  background-color: var(--sklearn-color-unfitted-level-2);\n",
       "}\n",
       "\n",
       "#sk-container-id-1 div.sk-label.fitted input.sk-toggleable__control:checked~label.sk-toggleable__label {\n",
       "  background-color: var(--sklearn-color-fitted-level-2);\n",
       "}\n",
       "\n",
       "/* Estimator-specific style */\n",
       "\n",
       "/* Colorize estimator box */\n",
       "#sk-container-id-1 div.sk-estimator input.sk-toggleable__control:checked~label.sk-toggleable__label {\n",
       "  /* unfitted */\n",
       "  background-color: var(--sklearn-color-unfitted-level-2);\n",
       "}\n",
       "\n",
       "#sk-container-id-1 div.sk-estimator.fitted input.sk-toggleable__control:checked~label.sk-toggleable__label {\n",
       "  /* fitted */\n",
       "  background-color: var(--sklearn-color-fitted-level-2);\n",
       "}\n",
       "\n",
       "#sk-container-id-1 div.sk-label label.sk-toggleable__label,\n",
       "#sk-container-id-1 div.sk-label label {\n",
       "  /* The background is the default theme color */\n",
       "  color: var(--sklearn-color-text-on-default-background);\n",
       "}\n",
       "\n",
       "/* On hover, darken the color of the background */\n",
       "#sk-container-id-1 div.sk-label:hover label.sk-toggleable__label {\n",
       "  color: var(--sklearn-color-text);\n",
       "  background-color: var(--sklearn-color-unfitted-level-2);\n",
       "}\n",
       "\n",
       "/* Label box, darken color on hover, fitted */\n",
       "#sk-container-id-1 div.sk-label.fitted:hover label.sk-toggleable__label.fitted {\n",
       "  color: var(--sklearn-color-text);\n",
       "  background-color: var(--sklearn-color-fitted-level-2);\n",
       "}\n",
       "\n",
       "/* Estimator label */\n",
       "\n",
       "#sk-container-id-1 div.sk-label label {\n",
       "  font-family: monospace;\n",
       "  font-weight: bold;\n",
       "  display: inline-block;\n",
       "  line-height: 1.2em;\n",
       "}\n",
       "\n",
       "#sk-container-id-1 div.sk-label-container {\n",
       "  text-align: center;\n",
       "}\n",
       "\n",
       "/* Estimator-specific */\n",
       "#sk-container-id-1 div.sk-estimator {\n",
       "  font-family: monospace;\n",
       "  border: 1px dotted var(--sklearn-color-border-box);\n",
       "  border-radius: 0.25em;\n",
       "  box-sizing: border-box;\n",
       "  margin-bottom: 0.5em;\n",
       "  /* unfitted */\n",
       "  background-color: var(--sklearn-color-unfitted-level-0);\n",
       "}\n",
       "\n",
       "#sk-container-id-1 div.sk-estimator.fitted {\n",
       "  /* fitted */\n",
       "  background-color: var(--sklearn-color-fitted-level-0);\n",
       "}\n",
       "\n",
       "/* on hover */\n",
       "#sk-container-id-1 div.sk-estimator:hover {\n",
       "  /* unfitted */\n",
       "  background-color: var(--sklearn-color-unfitted-level-2);\n",
       "}\n",
       "\n",
       "#sk-container-id-1 div.sk-estimator.fitted:hover {\n",
       "  /* fitted */\n",
       "  background-color: var(--sklearn-color-fitted-level-2);\n",
       "}\n",
       "\n",
       "/* Specification for estimator info (e.g. \"i\" and \"?\") */\n",
       "\n",
       "/* Common style for \"i\" and \"?\" */\n",
       "\n",
       ".sk-estimator-doc-link,\n",
       "a:link.sk-estimator-doc-link,\n",
       "a:visited.sk-estimator-doc-link {\n",
       "  float: right;\n",
       "  font-size: smaller;\n",
       "  line-height: 1em;\n",
       "  font-family: monospace;\n",
       "  background-color: var(--sklearn-color-background);\n",
       "  border-radius: 1em;\n",
       "  height: 1em;\n",
       "  width: 1em;\n",
       "  text-decoration: none !important;\n",
       "  margin-left: 1ex;\n",
       "  /* unfitted */\n",
       "  border: var(--sklearn-color-unfitted-level-1) 1pt solid;\n",
       "  color: var(--sklearn-color-unfitted-level-1);\n",
       "}\n",
       "\n",
       ".sk-estimator-doc-link.fitted,\n",
       "a:link.sk-estimator-doc-link.fitted,\n",
       "a:visited.sk-estimator-doc-link.fitted {\n",
       "  /* fitted */\n",
       "  border: var(--sklearn-color-fitted-level-1) 1pt solid;\n",
       "  color: var(--sklearn-color-fitted-level-1);\n",
       "}\n",
       "\n",
       "/* On hover */\n",
       "div.sk-estimator:hover .sk-estimator-doc-link:hover,\n",
       ".sk-estimator-doc-link:hover,\n",
       "div.sk-label-container:hover .sk-estimator-doc-link:hover,\n",
       ".sk-estimator-doc-link:hover {\n",
       "  /* unfitted */\n",
       "  background-color: var(--sklearn-color-unfitted-level-3);\n",
       "  color: var(--sklearn-color-background);\n",
       "  text-decoration: none;\n",
       "}\n",
       "\n",
       "div.sk-estimator.fitted:hover .sk-estimator-doc-link.fitted:hover,\n",
       ".sk-estimator-doc-link.fitted:hover,\n",
       "div.sk-label-container:hover .sk-estimator-doc-link.fitted:hover,\n",
       ".sk-estimator-doc-link.fitted:hover {\n",
       "  /* fitted */\n",
       "  background-color: var(--sklearn-color-fitted-level-3);\n",
       "  color: var(--sklearn-color-background);\n",
       "  text-decoration: none;\n",
       "}\n",
       "\n",
       "/* Span, style for the box shown on hovering the info icon */\n",
       ".sk-estimator-doc-link span {\n",
       "  display: none;\n",
       "  z-index: 9999;\n",
       "  position: relative;\n",
       "  font-weight: normal;\n",
       "  right: .2ex;\n",
       "  padding: .5ex;\n",
       "  margin: .5ex;\n",
       "  width: min-content;\n",
       "  min-width: 20ex;\n",
       "  max-width: 50ex;\n",
       "  color: var(--sklearn-color-text);\n",
       "  box-shadow: 2pt 2pt 4pt #999;\n",
       "  /* unfitted */\n",
       "  background: var(--sklearn-color-unfitted-level-0);\n",
       "  border: .5pt solid var(--sklearn-color-unfitted-level-3);\n",
       "}\n",
       "\n",
       ".sk-estimator-doc-link.fitted span {\n",
       "  /* fitted */\n",
       "  background: var(--sklearn-color-fitted-level-0);\n",
       "  border: var(--sklearn-color-fitted-level-3);\n",
       "}\n",
       "\n",
       ".sk-estimator-doc-link:hover span {\n",
       "  display: block;\n",
       "}\n",
       "\n",
       "/* \"?\"-specific style due to the `<a>` HTML tag */\n",
       "\n",
       "#sk-container-id-1 a.estimator_doc_link {\n",
       "  float: right;\n",
       "  font-size: 1rem;\n",
       "  line-height: 1em;\n",
       "  font-family: monospace;\n",
       "  background-color: var(--sklearn-color-background);\n",
       "  border-radius: 1rem;\n",
       "  height: 1rem;\n",
       "  width: 1rem;\n",
       "  text-decoration: none;\n",
       "  /* unfitted */\n",
       "  color: var(--sklearn-color-unfitted-level-1);\n",
       "  border: var(--sklearn-color-unfitted-level-1) 1pt solid;\n",
       "}\n",
       "\n",
       "#sk-container-id-1 a.estimator_doc_link.fitted {\n",
       "  /* fitted */\n",
       "  border: var(--sklearn-color-fitted-level-1) 1pt solid;\n",
       "  color: var(--sklearn-color-fitted-level-1);\n",
       "}\n",
       "\n",
       "/* On hover */\n",
       "#sk-container-id-1 a.estimator_doc_link:hover {\n",
       "  /* unfitted */\n",
       "  background-color: var(--sklearn-color-unfitted-level-3);\n",
       "  color: var(--sklearn-color-background);\n",
       "  text-decoration: none;\n",
       "}\n",
       "\n",
       "#sk-container-id-1 a.estimator_doc_link.fitted:hover {\n",
       "  /* fitted */\n",
       "  background-color: var(--sklearn-color-fitted-level-3);\n",
       "}\n",
       "</style><div id=\"sk-container-id-1\" class=\"sk-top-container\"><div class=\"sk-text-repr-fallback\"><pre>DecisionTreeClassifier(random_state=0)</pre><b>In a Jupyter environment, please rerun this cell to show the HTML representation or trust the notebook. <br />On GitHub, the HTML representation is unable to render, please try loading this page with nbviewer.org.</b></div><div class=\"sk-container\" hidden><div class=\"sk-item\"><div class=\"sk-estimator fitted sk-toggleable\"><input class=\"sk-toggleable__control sk-hidden--visually\" id=\"sk-estimator-id-1\" type=\"checkbox\" checked><label for=\"sk-estimator-id-1\" class=\"sk-toggleable__label fitted sk-toggleable__label-arrow fitted\">&nbsp;&nbsp;DecisionTreeClassifier<a class=\"sk-estimator-doc-link fitted\" rel=\"noreferrer\" target=\"_blank\" href=\"https://scikit-learn.org/1.4/modules/generated/sklearn.tree.DecisionTreeClassifier.html\">?<span>Documentation for DecisionTreeClassifier</span></a><span class=\"sk-estimator-doc-link fitted\">i<span>Fitted</span></span></label><div class=\"sk-toggleable__content fitted\"><pre>DecisionTreeClassifier(random_state=0)</pre></div> </div></div></div></div>"
      ],
      "text/plain": [
       "DecisionTreeClassifier(random_state=0)"
      ]
     },
     "execution_count": 87,
     "metadata": {},
     "output_type": "execute_result"
    }
   ],
   "source": [
    "health_classifier = DecisionTreeClassifier(random_state = 0)\n",
    "health_classifier.fit(X_train, y_train)"
   ]
  },
  {
   "cell_type": "code",
   "execution_count": 88,
   "id": "82c869a1-bb28-48ee-996f-52ab26ec0cbc",
   "metadata": {
    "colab": {
     "base_uri": "https://localhost:8080/",
     "height": 221
    },
    "executionInfo": {
     "elapsed": 6,
     "status": "ok",
     "timestamp": 1719508800736,
     "user": {
      "displayName": "Harsh Raj",
      "userId": "13475918194215025488"
     },
     "user_tz": -330
    },
    "id": "82c869a1-bb28-48ee-996f-52ab26ec0cbc",
    "outputId": "4cd70c42-c2d5-4258-e223-24d6e3e849a5"
   },
   "outputs": [
    {
     "data": {
      "text/plain": [
       "sklearn.tree._classes.DecisionTreeClassifier"
      ]
     },
     "execution_count": 88,
     "metadata": {},
     "output_type": "execute_result"
    }
   ],
   "source": [
    "type(health_classifier)"
   ]
  },
  {
   "cell_type": "markdown",
   "id": "vULqmNvVF4q4",
   "metadata": {
    "id": "vULqmNvVF4q4"
   },
   "source": [
    "### **5. Model Evaluation**\n",
    "Evaluate the model's performance using metrics such as accuracy, precision, recall, and F1-score."
   ]
  },
  {
   "cell_type": "code",
   "execution_count": 89,
   "id": "lYjAaucHjeij",
   "metadata": {
    "executionInfo": {
     "elapsed": 2,
     "status": "ok",
     "timestamp": 1719508805313,
     "user": {
      "displayName": "Harsh Raj",
      "userId": "13475918194215025488"
     },
     "user_tz": -330
    },
    "id": "lYjAaucHjeij"
   },
   "outputs": [],
   "source": [
    "# Make predictions\n",
    "y_pred_array = health_classifier.predict(X_test)"
   ]
  },
  {
   "cell_type": "code",
   "execution_count": 90,
   "id": "68E1R0hGjee_",
   "metadata": {
    "executionInfo": {
     "elapsed": 2,
     "status": "ok",
     "timestamp": 1719508806205,
     "user": {
      "displayName": "Harsh Raj",
      "userId": "13475918194215025488"
     },
     "user_tz": -330
    },
    "id": "68E1R0hGjee_"
   },
   "outputs": [],
   "source": [
    "# Ensure y_test is a Pandas Series to access its index\n",
    "if isinstance(y_test, np.ndarray):\n",
    "    y_test = pd.Series(y_test)"
   ]
  },
  {
   "cell_type": "code",
   "execution_count": 91,
   "id": "UL0yIOXcjeYi",
   "metadata": {
    "executionInfo": {
     "elapsed": 3,
     "status": "ok",
     "timestamp": 1719508809372,
     "user": {
      "displayName": "Harsh Raj",
      "userId": "13475918194215025488"
     },
     "user_tz": -330
    },
    "id": "UL0yIOXcjeYi"
   },
   "outputs": [],
   "source": [
    "# Create DataFrame from the predictions\n",
    "y_pred = pd.DataFrame(y_pred_array, columns=[\"health_condition\"])"
   ]
  },
  {
   "cell_type": "code",
   "execution_count": 92,
   "id": "chg9gMVRjkH9",
   "metadata": {
    "executionInfo": {
     "elapsed": 2,
     "status": "ok",
     "timestamp": 1719508810355,
     "user": {
      "displayName": "Harsh Raj",
      "userId": "13475918194215025488"
     },
     "user_tz": -330
    },
    "id": "chg9gMVRjkH9"
   },
   "outputs": [],
   "source": [
    "# Set the index of the DataFrame to match y_test index\n",
    "y_pred.index = y_test.index"
   ]
  },
  {
   "cell_type": "code",
   "execution_count": 93,
   "id": "acb6ff0f-e48c-4184-9cd7-75281b5a5c9b",
   "metadata": {
    "executionInfo": {
     "elapsed": 2,
     "status": "ok",
     "timestamp": 1719508810939,
     "user": {
      "displayName": "Harsh Raj",
      "userId": "13475918194215025488"
     },
     "user_tz": -330
    },
    "id": "acb6ff0f-e48c-4184-9cd7-75281b5a5c9b"
   },
   "outputs": [],
   "source": [
    "# Ensure the data type is int\n",
    "y_pred = y_pred.astype(int)"
   ]
  },
  {
   "cell_type": "code",
   "execution_count": 94,
   "id": "rHo5wG80jpeR",
   "metadata": {
    "colab": {
     "base_uri": "https://localhost:8080/"
    },
    "executionInfo": {
     "elapsed": 2,
     "status": "ok",
     "timestamp": 1719508813431,
     "user": {
      "displayName": "Harsh Raj",
      "userId": "13475918194215025488"
     },
     "user_tz": -330
    },
    "id": "rHo5wG80jpeR",
    "outputId": "d6f6fee2-a6d5-4a82-b44b-910608930c5a"
   },
   "outputs": [
    {
     "name": "stdout",
     "output_type": "stream",
     "text": [
      "     health_condition\n",
      "239                 1\n",
      "71                  1\n",
      "141                 1\n",
      "570                 1\n",
      "763                 1\n",
      "..                ...\n",
      "70                  1\n",
      "769                 1\n",
      "193                 1\n",
      "663                 1\n",
      "292                 1\n",
      "\n",
      "[171 rows x 1 columns]\n"
     ]
    }
   ],
   "source": [
    "print(y_pred)"
   ]
  },
  {
   "cell_type": "code",
   "execution_count": 95,
   "id": "65aab513-c6cf-4489-96f9-7d750754233e",
   "metadata": {
    "executionInfo": {
     "elapsed": 3,
     "status": "ok",
     "timestamp": 1719508814275,
     "user": {
      "displayName": "Harsh Raj",
      "userId": "13475918194215025488"
     },
     "user_tz": -330
    },
    "id": "65aab513-c6cf-4489-96f9-7d750754233e"
   },
   "outputs": [],
   "source": [
    "y_test = np.array(y_test,dtype = int)"
   ]
  },
  {
   "cell_type": "code",
   "execution_count": 96,
   "id": "05ca175a-a41b-42c3-92bc-97375c6aab73",
   "metadata": {
    "colab": {
     "base_uri": "https://localhost:8080/"
    },
    "executionInfo": {
     "elapsed": 666,
     "status": "ok",
     "timestamp": 1719508818442,
     "user": {
      "displayName": "Harsh Raj",
      "userId": "13475918194215025488"
     },
     "user_tz": -330
    },
    "id": "05ca175a-a41b-42c3-92bc-97375c6aab73",
    "outputId": "53cc1ca9-3b27-4909-aa6c-c67803cd30f7"
   },
   "outputs": [
    {
     "data": {
      "text/plain": [
       "numpy.ndarray"
      ]
     },
     "execution_count": 96,
     "metadata": {},
     "output_type": "execute_result"
    }
   ],
   "source": [
    "type(y_test)"
   ]
  },
  {
   "cell_type": "code",
   "execution_count": 97,
   "id": "c1e80c44-e162-4ca1-83a5-13f64b036b19",
   "metadata": {
    "colab": {
     "base_uri": "https://localhost:8080/"
    },
    "executionInfo": {
     "elapsed": 2,
     "status": "ok",
     "timestamp": 1719508819229,
     "user": {
      "displayName": "Harsh Raj",
      "userId": "13475918194215025488"
     },
     "user_tz": -330
    },
    "id": "c1e80c44-e162-4ca1-83a5-13f64b036b19",
    "outputId": "dd6fa28c-2934-47bc-ce9c-1a7d24cec492"
   },
   "outputs": [
    {
     "data": {
      "text/plain": [
       "array([1, 1, 1, 1, 1, 1, 1, 1, 1, 1, 1, 1, 1, 1, 1, 1, 1, 1, 1, 1, 1, 1,\n",
       "       1, 1, 1, 1, 1, 1, 1, 1, 1, 1, 1, 1, 1, 1, 1, 1, 1, 1, 1, 1, 1, 1,\n",
       "       1, 1, 1, 1, 1, 1, 1, 0, 1, 1, 1, 1, 1, 1, 1, 1, 1, 0, 1, 1, 1, 1,\n",
       "       1, 1, 1, 1, 1, 1, 1, 1, 1, 1, 1, 1, 1, 1, 1, 1, 1, 1, 1, 1, 1, 1,\n",
       "       1, 1, 1, 1, 1, 1, 1, 1, 1, 1, 1, 1, 1, 1, 1, 1, 1, 1, 1, 1, 1, 1,\n",
       "       1, 1, 1, 1, 1, 1, 1, 1, 1, 1, 1, 1, 1, 1, 1, 1, 1, 1, 1, 0, 1, 1,\n",
       "       1, 1, 1, 0, 1, 1, 1, 1, 1, 0, 1, 1, 1, 1, 1, 1, 1, 1, 1, 1, 1, 1,\n",
       "       1, 1, 1, 1, 1, 1, 1, 1, 1, 1, 1, 1, 1, 1, 1, 1, 1])"
      ]
     },
     "execution_count": 97,
     "metadata": {},
     "output_type": "execute_result"
    }
   ],
   "source": [
    "y_test"
   ]
  },
  {
   "cell_type": "code",
   "execution_count": 98,
   "id": "42c4582e-1a9e-4ca5-9133-d4ff0bc7ca92",
   "metadata": {
    "colab": {
     "base_uri": "https://localhost:8080/"
    },
    "executionInfo": {
     "elapsed": 892,
     "status": "ok",
     "timestamp": 1719508822627,
     "user": {
      "displayName": "Harsh Raj",
      "userId": "13475918194215025488"
     },
     "user_tz": -330
    },
    "id": "42c4582e-1a9e-4ca5-9133-d4ff0bc7ca92",
    "outputId": "1e341c9f-1958-463b-86c1-a9c3b7e4937b"
   },
   "outputs": [
    {
     "data": {
      "text/plain": [
       "0.9941520467836257"
      ]
     },
     "execution_count": 98,
     "metadata": {},
     "output_type": "execute_result"
    }
   ],
   "source": [
    "# Measure Accuracy\n",
    "metrics.accuracy_score(y_test,y_pred)"
   ]
  },
  {
   "cell_type": "code",
   "execution_count": 99,
   "id": "181bd3c2-6026-4092-ac0b-4a51c928d6b6",
   "metadata": {
    "colab": {
     "base_uri": "https://localhost:8080/"
    },
    "executionInfo": {
     "elapsed": 2,
     "status": "ok",
     "timestamp": 1719508823442,
     "user": {
      "displayName": "Harsh Raj",
      "userId": "13475918194215025488"
     },
     "user_tz": -330
    },
    "id": "181bd3c2-6026-4092-ac0b-4a51c928d6b6",
    "outputId": "b0da7a65-b3ca-4d5b-aa77-cd8d82ca20ab"
   },
   "outputs": [
    {
     "name": "stdout",
     "output_type": "stream",
     "text": [
      "              precision    recall  f1-score   support\n",
      "\n",
      "           0       0.83      1.00      0.91         5\n",
      "           1       1.00      0.99      1.00       166\n",
      "\n",
      "    accuracy                           0.99       171\n",
      "   macro avg       0.92      1.00      0.95       171\n",
      "weighted avg       1.00      0.99      0.99       171\n",
      "\n"
     ]
    }
   ],
   "source": [
    "print(metrics.classification_report(y_test, y_pred))"
   ]
  },
  {
   "cell_type": "markdown",
   "id": "566afdb7-c26f-46b0-9ae2-0e0ca73ef037",
   "metadata": {
    "id": "566afdb7-c26f-46b0-9ae2-0e0ca73ef037"
   },
   "source": [
    "### **6. Model Deployment**\n",
    "Save the trained model for future use and deploying it in real-world applications."
   ]
  },
  {
   "cell_type": "code",
   "execution_count": 100,
   "id": "2f755dff-26ee-407e-8c0b-2a3056d0c1cb",
   "metadata": {
    "colab": {
     "base_uri": "https://localhost:8080/"
    },
    "executionInfo": {
     "elapsed": 573,
     "status": "ok",
     "timestamp": 1719508828055,
     "user": {
      "displayName": "Harsh Raj",
      "userId": "13475918194215025488"
     },
     "user_tz": -330
    },
    "id": "2f755dff-26ee-407e-8c0b-2a3056d0c1cb",
    "outputId": "133408ae-de84-493d-f297-19de8afedb20"
   },
   "outputs": [
    {
     "name": "stdout",
     "output_type": "stream",
     "text": [
      "#pragma once\n",
      "#include <cstdarg>\n",
      "namespace Eloquent {\n",
      "    namespace ML {\n",
      "        namespace Port {\n",
      "            class DecisionTree {\n",
      "                public:\n",
      "                    /**\n",
      "                    * Predict class for features vector\n",
      "                    */\n",
      "                    int predict(float *x) {\n",
      "                        if (x[1] <= 37.25) {\n",
      "                            if (x[2] <= 94.0) {\n",
      "                                return 1;\n",
      "                            }\n",
      "\n",
      "                            else {\n",
      "                                if (x[0] <= 100.0) {\n",
      "                                    if (x[1] <= 36.25) {\n",
      "                                        return 1;\n",
      "                                    }\n",
      "\n",
      "                                    else {\n",
      "                                        return 0;\n",
      "                                    }\n",
      "                                }\n",
      "\n",
      "                                else {\n",
      "                                    return 1;\n",
      "                                }\n",
      "                            }\n",
      "                        }\n",
      "\n",
      "                        else {\n",
      "                            return 1;\n",
      "                        }\n",
      "                    }\n",
      "\n",
      "                protected:\n",
      "                };\n",
      "            }\n",
      "        }\n",
      "    }\n"
     ]
    }
   ],
   "source": [
    "print(port(health_classifier))"
   ]
  },
  {
   "cell_type": "markdown",
   "id": "ScKF5VgskBQq",
   "metadata": {
    "id": "ScKF5VgskBQq"
   },
   "source": [
    "Now copy the above Decision Tree classifier code and save in any text file with name\n",
    "\n",
    "```\n",
    "DecisionTree.h\n",
    "```\n",
    "\n",
    "Then copy the below arduino code and save it named as\n",
    "\n",
    "```\n",
    "health_determining_model.ino\n",
    "```\n"
   ]
  },
  {
   "cell_type": "markdown",
   "id": "q_eDDNaljuW6",
   "metadata": {
    "id": "q_eDDNaljuW6"
   },
   "source": [
    "\n",
    "\n",
    "```\n",
    "#include <Wire.h>  \n",
    "#include \"MAX30100_PulseOximeter.h\"\n",
    "#include \"DecisionTree.h\"\n",
    "\n",
    "Eloquent::ML::Port::DecisionTree health_Classifier;\n",
    "\n",
    "#define TEMPERATURE_SENSOR_PIN 32  // Analog pin for the temperature sensor (replace with the actual pin number)\n",
    "#define HEART_RATE_SENSOR_PIN 35   // Analog pin for the heart rate sensor (replace with the actual pin number)\n",
    "\n",
    "// Initialize the PulseOximeter library\n",
    "PulseOximeter pox;\n",
    "\n",
    "// Variable Declaration\n",
    "float t;\n",
    "int h;\n",
    "int s;\n",
    "int prediction;\n",
    "\n",
    "void setup() {\n",
    "  Serial.begin(9600);\n",
    "  Serial.println(\"Welcome!\");\n",
    "\n",
    "  pinMode(TEMPERATURE_SENSOR_PIN, INPUT);  \n",
    "  pinMode(HEART_RATE_SENSOR_PIN, INPUT);   \n",
    "\n",
    "  // Initialize the Pulse Oximeter\n",
    "  if (!pox.begin()) {\n",
    "    Serial.println(\"Failed to initialize pulse oximeter!\");\n",
    "    while (1);\n",
    "  } else {\n",
    "    Serial.println(\"Pulse oximeter initialized successfully!\");\n",
    "  }\n",
    "}\n",
    "\n",
    "void loop() {\n",
    "  delay(2000);\n",
    "\n",
    "  // Sensor data Collection part\n",
    "\n",
    "  // Read temperature value\n",
    "  int temperatureValue = analogRead(TEMPERATURE_SENSOR_PIN);\n",
    "  t = convertToCelsius(temperatureValue);\n",
    "  Serial.print(\"Temperature (°C): \");\n",
    "  Serial.println(t);\n",
    "\n",
    "  // Read heart rate value\n",
    "  h = analogRead(HEART_RATE_SENSOR_PIN);\n",
    "  Serial.print(\"Heart Rate (bpm): \");\n",
    "  Serial.println(h);\n",
    "\n",
    "  // Read SpO2 value\n",
    "  int s = pox.getSpO2();\n",
    "  Serial.print(\"SpO2 (%): \");\n",
    "  Serial.println(s);\n",
    "\n",
    "  // Print values of heart_rate, temperature, and SpO2_saturation to serial monitor\n",
    "  Serial.print(F(\"Heart_rate: \"));\n",
    "  Serial.print(h);\n",
    "  Serial.print(F(\"  Temperature: \"));\n",
    "  Serial.print(t);\n",
    "  Serial.print(F(\"  SpO2: \"));\n",
    "  Serial.println(s);\n",
    "\n",
    "  float input[3] = {h, t, s};\n",
    "  // Giving input values to predict Function\n",
    "  int prediction = health_Classifier.predict(input);\n",
    "\n",
    "  // Checking Condition\n",
    "  Serial.print(\"Prediction: \");\n",
    "  switch (prediction) {\n",
    "    case 0:\n",
    "      Serial.println(\"Normal\");\n",
    "      break;\n",
    "    case 1:\n",
    "      Serial.println(\"Serious\");\n",
    "      break;\n",
    "    case 2:\n",
    "      Serial.println(\"Dischargeable\");\n",
    "      break;\n",
    "    default:\n",
    "      Serial.println(\"Unknown\");\n",
    "      break;\n",
    "  }\n",
    "\n",
    "  Serial.println();\n",
    "  delay(1000);\n",
    "}\n",
    "\n",
    "float convertToCelsius(int adcValue) {\n",
    "  float voltage = adcValue * 3.3 / 4095.0;  // Convert ADC value to voltage for ESP32\n",
    "  float temperatureCelsius = (voltage - 0.5) * 100;  // Convert voltage to temperature in Celsius\n",
    "  return temperatureCelsius;\n",
    "}\n",
    "\n",
    "\n",
    "```\n",
    "\n"
   ]
  },
  {
   "cell_type": "code",
   "execution_count": null,
   "id": "3ab7a75f-a119-40b0-a116-4c8e8a7d9d44",
   "metadata": {
    "colab": {
     "base_uri": "https://localhost:8080/",
     "height": 397
    },
    "executionInfo": {
     "elapsed": 1054,
     "status": "error",
     "timestamp": 1719508850073,
     "user": {
      "displayName": "Harsh Raj",
      "userId": "13475918194215025488"
     },
     "user_tz": -330
    },
    "id": "3ab7a75f-a119-40b0-a116-4c8e8a7d9d44",
    "outputId": "071eb97e-448c-4e17-ed8b-54b8cad5b443"
   },
   "outputs": [],
   "source": [
    "import serial\n",
    "import time\n",
    "\n",
    "# Replace 'COM10' with the appropriate serial port for your system\n",
    "SERIAL_PORT = 'COM13' #replace with your actual usb port\n",
    "BAUD_RATE = 9600  # the baud rate set on your ESP32\n",
    "\n",
    "def read_from_esp32():\n",
    "    # Open the serial connection\n",
    "    with serial.Serial(SERIAL_PORT, BAUD_RATE, timeout=1) as ser:\n",
    "        # Give some time for the serial connection to establish\n",
    "        time.sleep(2)\n",
    "\n",
    "        # Clear any existing input in the buffer\n",
    "        ser.flushInput()\n",
    "\n",
    "        try:\n",
    "            while True:\n",
    "                # Read data from the ESP32\n",
    "                if ser.in_waiting > 0:\n",
    "                    line = ser.readline().decode('utf-8').rstrip()\n",
    "                    print(f\"{line}\")\n",
    "                time.sleep(0.1)\n",
    "\n",
    "        except KeyboardInterrupt:\n",
    "            print(\"Serial read stopped.\")\n",
    "\n",
    "if __name__ == \"__main__\":\n",
    "    read_from_esp32()\n"
   ]
  },
  {
   "cell_type": "markdown",
   "id": "ecTNmC1xmal_",
   "metadata": {
    "id": "ecTNmC1xmal_"
   },
   "source": [
    "#### Now move these both files in same folder then open the \"health_determining_model.ino\" file in your arduino IDE and upload the code to your Esp32 microcontroller.\n",
    "\n",
    "#### Before uploading the code to the board, do verify that the \"DecisionTree.h\" file is also opened in the same arduino IDE beside the .ino file.\n",
    "\n",
    "#### If any error occurs then open the \"DecisionTree.h\" file and comment the line containing this code\n",
    "\n",
    "```\n",
    "#include <cstdarg> // comment this line\n",
    "```\n",
    "\n",
    "\n"
   ]
  },
  {
   "cell_type": "markdown",
   "id": "8d2d1a42-aca1-4369-867d-8203479aad9b",
   "metadata": {
    "id": "8d2d1a42-aca1-4369-867d-8203479aad9b"
   },
   "source": [
    "# Happy Learning"
   ]
  }
 ],
 "metadata": {
  "colab": {
   "provenance": []
  },
  "kernelspec": {
   "display_name": "Python 3 (ipykernel)",
   "language": "python",
   "name": "python3"
  },
  "language_info": {
   "codemirror_mode": {
    "name": "ipython",
    "version": 3
   },
   "file_extension": ".py",
   "mimetype": "text/x-python",
   "name": "python",
   "nbconvert_exporter": "python",
   "pygments_lexer": "ipython3",
   "version": "3.10.12"
  }
 },
 "nbformat": 4,
 "nbformat_minor": 5
}
